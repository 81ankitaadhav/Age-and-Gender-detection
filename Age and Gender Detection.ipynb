{
 "cells": [
  {
   "cell_type": "markdown",
   "id": "60e6ba3a",
   "metadata": {},
   "source": [
    "# Infopillar Solution\n",
    "\n",
    "# Data Science\n",
    "\n",
    "# Task 1- Age and Gender Detection\n",
    "\n",
    "# Ankita Digambar Adhav\n"
   ]
  },
  {
   "cell_type": "code",
   "execution_count": 1,
   "id": "66b5c503",
   "metadata": {},
   "outputs": [],
   "source": [
    "import numpy as np\n",
    "import pandas as pd\n",
    "import matplotlib.pyplot as plt\n",
    "import seaborn as sns\n",
    "import cv2\n",
    "from PIL import Image\n",
    "\n",
    "import os\n",
    "for dirname, _, filenames in os.walk('/kaggle/input'):\n",
    "    for filename in filenames:\n",
    "        print(os.path.join(dirname, filename))"
   ]
  },
  {
   "cell_type": "code",
   "execution_count": 2,
   "id": "26538c3a",
   "metadata": {},
   "outputs": [],
   "source": [
    "#load data\n",
    "fold0 = pd.read_csv(r\"C:\\Users\\ankita adhav\\OneDrive\\Desktop\\Age and Gender detection\\AdienceBenchmarkGenderAndAgeClassification\\fold_0_data.csv.csv\")\n",
    "fold1 = pd.read_csv(r\"C:\\Users\\ankita adhav\\OneDrive\\Desktop\\Age and Gender detection\\AdienceBenchmarkGenderAndAgeClassification\\fold_1_data.csv.csv\")\n",
    "fold2 = pd.read_csv(r\"C:\\Users\\ankita adhav\\OneDrive\\Desktop\\Age and Gender detection\\AdienceBenchmarkGenderAndAgeClassification\\fold_2_data.csv.csv\")\n",
    "fold3 = pd.read_csv(r\"C:\\Users\\ankita adhav\\OneDrive\\Desktop\\Age and Gender detection\\AdienceBenchmarkGenderAndAgeClassification\\fold_3_data.csv.csv\")\n",
    "fold4 = pd.read_csv(r\"C:\\Users\\ankita adhav\\OneDrive\\Desktop\\Age and Gender detection\\AdienceBenchmarkGenderAndAgeClassification\\fold_4_data.csv.csv\")"
   ]
  },
  {
   "cell_type": "code",
   "execution_count": 3,
   "id": "874aedd8",
   "metadata": {},
   "outputs": [
    {
     "name": "stdout",
     "output_type": "stream",
     "text": [
      "(4484, 12) (3730, 12) (3894, 12) (3446, 12) (3816, 12) (19370, 12)\n"
     ]
    }
   ],
   "source": [
    "df = pd.concat([fold0, fold1, fold2, fold3, fold4], ignore_index=True, axis = 0).reset_index(drop = True)\n",
    "print(fold0.shape, fold1.shape, fold2.shape, fold3.shape, fold4.shape, df.shape)"
   ]
  },
  {
   "cell_type": "code",
   "execution_count": 4,
   "id": "69dd772b",
   "metadata": {},
   "outputs": [
    {
     "name": "stdout",
     "output_type": "stream",
     "text": [
      "(19370, 12)\n"
     ]
    },
    {
     "data": {
      "text/html": [
       "<div>\n",
       "<style scoped>\n",
       "    .dataframe tbody tr th:only-of-type {\n",
       "        vertical-align: middle;\n",
       "    }\n",
       "\n",
       "    .dataframe tbody tr th {\n",
       "        vertical-align: top;\n",
       "    }\n",
       "\n",
       "    .dataframe thead th {\n",
       "        text-align: right;\n",
       "    }\n",
       "</style>\n",
       "<table border=\"1\" class=\"dataframe\">\n",
       "  <thead>\n",
       "    <tr style=\"text-align: right;\">\n",
       "      <th></th>\n",
       "      <th>user_id</th>\n",
       "      <th>original_image</th>\n",
       "      <th>face_id</th>\n",
       "      <th>age</th>\n",
       "      <th>gender</th>\n",
       "      <th>x</th>\n",
       "      <th>y</th>\n",
       "      <th>dx</th>\n",
       "      <th>dy</th>\n",
       "      <th>tilt_ang</th>\n",
       "      <th>fiducial_yaw_angle</th>\n",
       "      <th>fiducial_score</th>\n",
       "    </tr>\n",
       "  </thead>\n",
       "  <tbody>\n",
       "    <tr>\n",
       "      <th>0</th>\n",
       "      <td>30601258@N03</td>\n",
       "      <td>10399646885_67c7d20df9_o.jpg</td>\n",
       "      <td>1</td>\n",
       "      <td>(25, 32)</td>\n",
       "      <td>f</td>\n",
       "      <td>0</td>\n",
       "      <td>414</td>\n",
       "      <td>1086</td>\n",
       "      <td>1383</td>\n",
       "      <td>-115</td>\n",
       "      <td>30</td>\n",
       "      <td>17</td>\n",
       "    </tr>\n",
       "    <tr>\n",
       "      <th>1</th>\n",
       "      <td>30601258@N03</td>\n",
       "      <td>10424815813_e94629b1ec_o.jpg</td>\n",
       "      <td>2</td>\n",
       "      <td>(25, 32)</td>\n",
       "      <td>m</td>\n",
       "      <td>301</td>\n",
       "      <td>105</td>\n",
       "      <td>640</td>\n",
       "      <td>641</td>\n",
       "      <td>0</td>\n",
       "      <td>0</td>\n",
       "      <td>94</td>\n",
       "    </tr>\n",
       "    <tr>\n",
       "      <th>2</th>\n",
       "      <td>30601258@N03</td>\n",
       "      <td>10437979845_5985be4b26_o.jpg</td>\n",
       "      <td>1</td>\n",
       "      <td>(25, 32)</td>\n",
       "      <td>f</td>\n",
       "      <td>2395</td>\n",
       "      <td>876</td>\n",
       "      <td>771</td>\n",
       "      <td>771</td>\n",
       "      <td>175</td>\n",
       "      <td>-30</td>\n",
       "      <td>74</td>\n",
       "    </tr>\n",
       "    <tr>\n",
       "      <th>3</th>\n",
       "      <td>30601258@N03</td>\n",
       "      <td>10437979845_5985be4b26_o.jpg</td>\n",
       "      <td>3</td>\n",
       "      <td>(25, 32)</td>\n",
       "      <td>m</td>\n",
       "      <td>752</td>\n",
       "      <td>1255</td>\n",
       "      <td>484</td>\n",
       "      <td>485</td>\n",
       "      <td>180</td>\n",
       "      <td>0</td>\n",
       "      <td>47</td>\n",
       "    </tr>\n",
       "    <tr>\n",
       "      <th>4</th>\n",
       "      <td>30601258@N03</td>\n",
       "      <td>11816644924_075c3d8d59_o.jpg</td>\n",
       "      <td>2</td>\n",
       "      <td>(25, 32)</td>\n",
       "      <td>m</td>\n",
       "      <td>175</td>\n",
       "      <td>80</td>\n",
       "      <td>769</td>\n",
       "      <td>768</td>\n",
       "      <td>-75</td>\n",
       "      <td>0</td>\n",
       "      <td>34</td>\n",
       "    </tr>\n",
       "  </tbody>\n",
       "</table>\n",
       "</div>"
      ],
      "text/plain": [
       "        user_id                original_image  face_id       age gender     x  \\\n",
       "0  30601258@N03  10399646885_67c7d20df9_o.jpg        1  (25, 32)      f     0   \n",
       "1  30601258@N03  10424815813_e94629b1ec_o.jpg        2  (25, 32)      m   301   \n",
       "2  30601258@N03  10437979845_5985be4b26_o.jpg        1  (25, 32)      f  2395   \n",
       "3  30601258@N03  10437979845_5985be4b26_o.jpg        3  (25, 32)      m   752   \n",
       "4  30601258@N03  11816644924_075c3d8d59_o.jpg        2  (25, 32)      m   175   \n",
       "\n",
       "      y    dx    dy  tilt_ang  fiducial_yaw_angle  fiducial_score  \n",
       "0   414  1086  1383      -115                  30              17  \n",
       "1   105   640   641         0                   0              94  \n",
       "2   876   771   771       175                 -30              74  \n",
       "3  1255   484   485       180                   0              47  \n",
       "4    80   769   768       -75                   0              34  "
      ]
     },
     "execution_count": 4,
     "metadata": {},
     "output_type": "execute_result"
    }
   ],
   "source": [
    "print(df.shape)\n",
    "df.head()"
   ]
  },
  {
   "cell_type": "code",
   "execution_count": 5,
   "id": "7497955c",
   "metadata": {},
   "outputs": [
    {
     "data": {
      "text/plain": [
       "(18591, 12)"
      ]
     },
     "execution_count": 5,
     "metadata": {},
     "output_type": "execute_result"
    }
   ],
   "source": [
    "df.dropna(how = 'any').shape"
   ]
  },
  {
   "cell_type": "code",
   "execution_count": 6,
   "id": "8221b256",
   "metadata": {},
   "outputs": [
    {
     "data": {
      "text/plain": [
       "0"
      ]
     },
     "execution_count": 6,
     "metadata": {},
     "output_type": "execute_result"
    }
   ],
   "source": [
    "df.duplicated().sum()"
   ]
  },
  {
   "cell_type": "code",
   "execution_count": 7,
   "id": "8068b955",
   "metadata": {},
   "outputs": [
    {
     "data": {
      "text/plain": [
       "(19370, 12)"
      ]
     },
     "execution_count": 7,
     "metadata": {},
     "output_type": "execute_result"
    }
   ],
   "source": [
    "df.drop_duplicates(keep = 'first').shape"
   ]
  },
  {
   "cell_type": "code",
   "execution_count": 8,
   "id": "33428b6e",
   "metadata": {},
   "outputs": [
    {
     "data": {
      "text/plain": [
       "(18591, 12)"
      ]
     },
     "execution_count": 8,
     "metadata": {},
     "output_type": "execute_result"
    }
   ],
   "source": [
    "df.dropna(subset = ['user_id', 'original_image', 'age', 'gender', 'x', 'y', 'dx', 'dy', 'tilt_ang', 'fiducial_yaw_angle',\n",
    "                   'fiducial_score'], how = 'any').shape"
   ]
  },
  {
   "cell_type": "code",
   "execution_count": 9,
   "id": "8d74c66e",
   "metadata": {},
   "outputs": [
    {
     "name": "stdout",
     "output_type": "stream",
     "text": [
      "<class 'pandas.core.frame.DataFrame'>\n",
      "RangeIndex: 19370 entries, 0 to 19369\n",
      "Data columns (total 12 columns):\n",
      " #   Column              Non-Null Count  Dtype \n",
      "---  ------              --------------  ----- \n",
      " 0   user_id             19370 non-null  object\n",
      " 1   original_image      19370 non-null  object\n",
      " 2   face_id             19370 non-null  int64 \n",
      " 3   age                 19370 non-null  object\n",
      " 4   gender              18591 non-null  object\n",
      " 5   x                   19370 non-null  int64 \n",
      " 6   y                   19370 non-null  int64 \n",
      " 7   dx                  19370 non-null  int64 \n",
      " 8   dy                  19370 non-null  int64 \n",
      " 9   tilt_ang            19370 non-null  int64 \n",
      " 10  fiducial_yaw_angle  19370 non-null  int64 \n",
      " 11  fiducial_score      19370 non-null  int64 \n",
      "dtypes: int64(8), object(4)\n",
      "memory usage: 1.8+ MB\n"
     ]
    }
   ],
   "source": [
    "df.info()"
   ]
  },
  {
   "cell_type": "code",
   "execution_count": 10,
   "id": "45f86c68",
   "metadata": {},
   "outputs": [
    {
     "data": {
      "text/plain": [
       "Index(['user_id', 'original_image', 'face_id', 'age', 'gender', 'x', 'y', 'dx',\n",
       "       'dy', 'tilt_ang', 'fiducial_yaw_angle', 'fiducial_score'],\n",
       "      dtype='object')"
      ]
     },
     "execution_count": 10,
     "metadata": {},
     "output_type": "execute_result"
    }
   ],
   "source": [
    "df.columns"
   ]
  },
  {
   "cell_type": "code",
   "execution_count": 11,
   "id": "38fec4bc",
   "metadata": {},
   "outputs": [
    {
     "data": {
      "text/plain": [
       "{int64: ['face_id', 'x', 'y', 'dx', 'dy', 'tilt_ang', 'fiducial_yaw_angle', 'fiducial_score'], object: ['user_id', 'original_image', 'age', 'gender']}"
      ]
     },
     "execution_count": 11,
     "metadata": {},
     "output_type": "execute_result"
    }
   ],
   "source": [
    "df.columns.to_series().groupby(df.dtypes).groups"
   ]
  },
  {
   "cell_type": "code",
   "execution_count": 12,
   "id": "c9ebedf6",
   "metadata": {},
   "outputs": [
    {
     "data": {
      "text/plain": [
       "user_id                 0\n",
       "original_image          0\n",
       "face_id                 0\n",
       "age                     0\n",
       "gender                779\n",
       "x                       0\n",
       "y                       0\n",
       "dx                      0\n",
       "dy                      0\n",
       "tilt_ang                0\n",
       "fiducial_yaw_angle      0\n",
       "fiducial_score          0\n",
       "dtype: int64"
      ]
     },
     "execution_count": 12,
     "metadata": {},
     "output_type": "execute_result"
    }
   ],
   "source": [
    "df.isnull().sum()"
   ]
  },
  {
   "cell_type": "code",
   "execution_count": 13,
   "id": "fb28e6c1",
   "metadata": {},
   "outputs": [
    {
     "data": {
      "text/plain": [
       "user_id                 168\n",
       "original_image        13082\n",
       "face_id                2284\n",
       "age                      30\n",
       "gender                    3\n",
       "x                      2207\n",
       "y                      1571\n",
       "dx                     1435\n",
       "dy                     1460\n",
       "tilt_ang                 63\n",
       "fiducial_yaw_angle        7\n",
       "fiducial_score          203\n",
       "dtype: int64"
      ]
     },
     "execution_count": 13,
     "metadata": {},
     "output_type": "execute_result"
    }
   ],
   "source": [
    "df.nunique()"
   ]
  },
  {
   "cell_type": "code",
   "execution_count": 14,
   "id": "932428b0",
   "metadata": {},
   "outputs": [
    {
     "data": {
      "text/html": [
       "<div>\n",
       "<style scoped>\n",
       "    .dataframe tbody tr th:only-of-type {\n",
       "        vertical-align: middle;\n",
       "    }\n",
       "\n",
       "    .dataframe tbody tr th {\n",
       "        vertical-align: top;\n",
       "    }\n",
       "\n",
       "    .dataframe thead th {\n",
       "        text-align: right;\n",
       "    }\n",
       "</style>\n",
       "<table border=\"1\" class=\"dataframe\">\n",
       "  <thead>\n",
       "    <tr style=\"text-align: right;\">\n",
       "      <th></th>\n",
       "      <th>user_id</th>\n",
       "      <th>original_image</th>\n",
       "      <th>face_id</th>\n",
       "      <th>age</th>\n",
       "      <th>gender</th>\n",
       "      <th>x</th>\n",
       "      <th>y</th>\n",
       "      <th>dx</th>\n",
       "      <th>dy</th>\n",
       "      <th>tilt_ang</th>\n",
       "      <th>fiducial_yaw_angle</th>\n",
       "      <th>fiducial_score</th>\n",
       "    </tr>\n",
       "  </thead>\n",
       "  <tbody>\n",
       "    <tr>\n",
       "      <th>19365</th>\n",
       "      <td>True</td>\n",
       "      <td>True</td>\n",
       "      <td>True</td>\n",
       "      <td>True</td>\n",
       "      <td>False</td>\n",
       "      <td>True</td>\n",
       "      <td>True</td>\n",
       "      <td>True</td>\n",
       "      <td>True</td>\n",
       "      <td>True</td>\n",
       "      <td>True</td>\n",
       "      <td>True</td>\n",
       "    </tr>\n",
       "    <tr>\n",
       "      <th>19366</th>\n",
       "      <td>True</td>\n",
       "      <td>True</td>\n",
       "      <td>True</td>\n",
       "      <td>True</td>\n",
       "      <td>False</td>\n",
       "      <td>True</td>\n",
       "      <td>True</td>\n",
       "      <td>True</td>\n",
       "      <td>True</td>\n",
       "      <td>True</td>\n",
       "      <td>True</td>\n",
       "      <td>True</td>\n",
       "    </tr>\n",
       "    <tr>\n",
       "      <th>19367</th>\n",
       "      <td>True</td>\n",
       "      <td>True</td>\n",
       "      <td>True</td>\n",
       "      <td>True</td>\n",
       "      <td>False</td>\n",
       "      <td>True</td>\n",
       "      <td>True</td>\n",
       "      <td>True</td>\n",
       "      <td>True</td>\n",
       "      <td>True</td>\n",
       "      <td>True</td>\n",
       "      <td>True</td>\n",
       "    </tr>\n",
       "    <tr>\n",
       "      <th>19368</th>\n",
       "      <td>True</td>\n",
       "      <td>True</td>\n",
       "      <td>True</td>\n",
       "      <td>True</td>\n",
       "      <td>False</td>\n",
       "      <td>True</td>\n",
       "      <td>True</td>\n",
       "      <td>True</td>\n",
       "      <td>True</td>\n",
       "      <td>True</td>\n",
       "      <td>True</td>\n",
       "      <td>True</td>\n",
       "    </tr>\n",
       "    <tr>\n",
       "      <th>19369</th>\n",
       "      <td>True</td>\n",
       "      <td>True</td>\n",
       "      <td>True</td>\n",
       "      <td>True</td>\n",
       "      <td>False</td>\n",
       "      <td>True</td>\n",
       "      <td>True</td>\n",
       "      <td>True</td>\n",
       "      <td>True</td>\n",
       "      <td>True</td>\n",
       "      <td>True</td>\n",
       "      <td>True</td>\n",
       "    </tr>\n",
       "  </tbody>\n",
       "</table>\n",
       "</div>"
      ],
      "text/plain": [
       "       user_id  original_image  face_id   age  gender     x     y    dx    dy  \\\n",
       "19365     True            True     True  True   False  True  True  True  True   \n",
       "19366     True            True     True  True   False  True  True  True  True   \n",
       "19367     True            True     True  True   False  True  True  True  True   \n",
       "19368     True            True     True  True   False  True  True  True  True   \n",
       "19369     True            True     True  True   False  True  True  True  True   \n",
       "\n",
       "       tilt_ang  fiducial_yaw_angle  fiducial_score  \n",
       "19365      True                True            True  \n",
       "19366      True                True            True  \n",
       "19367      True                True            True  \n",
       "19368      True                True            True  \n",
       "19369      True                True            True  "
      ]
     },
     "execution_count": 14,
     "metadata": {},
     "output_type": "execute_result"
    }
   ],
   "source": [
    "df.notnull().tail()"
   ]
  },
  {
   "cell_type": "code",
   "execution_count": 15,
   "id": "d584c1b0",
   "metadata": {},
   "outputs": [
    {
     "data": {
      "text/plain": [
       "user_id               object\n",
       "original_image        object\n",
       "face_id                int64\n",
       "age                   object\n",
       "gender                object\n",
       "x                      int64\n",
       "y                      int64\n",
       "dx                     int64\n",
       "dy                     int64\n",
       "tilt_ang               int64\n",
       "fiducial_yaw_angle     int64\n",
       "fiducial_score         int64\n",
       "dtype: object"
      ]
     },
     "execution_count": 15,
     "metadata": {},
     "output_type": "execute_result"
    }
   ],
   "source": [
    "df.apply(lambda x: x.dtype)"
   ]
  },
  {
   "cell_type": "code",
   "execution_count": 16,
   "id": "282d09e7",
   "metadata": {},
   "outputs": [
    {
     "data": {
      "text/plain": [
       "user_id               0.00\n",
       "original_image        0.00\n",
       "face_id               0.00\n",
       "age                   0.00\n",
       "gender                4.02\n",
       "x                     0.00\n",
       "y                     0.00\n",
       "dx                    0.00\n",
       "dy                    0.00\n",
       "tilt_ang              0.00\n",
       "fiducial_yaw_angle    0.00\n",
       "fiducial_score        0.00\n",
       "dtype: float64"
      ]
     },
     "execution_count": 16,
     "metadata": {},
     "output_type": "execute_result"
    }
   ],
   "source": [
    "round((df.apply(lambda x:x.isnull().sum())/len(df))*100,2)"
   ]
  },
  {
   "cell_type": "code",
   "execution_count": 17,
   "id": "d9d2b5e3",
   "metadata": {},
   "outputs": [
    {
     "data": {
      "text/plain": [
       "user_id               0.000000\n",
       "original_image        0.000000\n",
       "face_id               0.000000\n",
       "age                   0.000000\n",
       "gender                4.021683\n",
       "x                     0.000000\n",
       "y                     0.000000\n",
       "dx                    0.000000\n",
       "dy                    0.000000\n",
       "tilt_ang              0.000000\n",
       "fiducial_yaw_angle    0.000000\n",
       "fiducial_score        0.000000\n",
       "dtype: float64"
      ]
     },
     "execution_count": 17,
     "metadata": {},
     "output_type": "execute_result"
    }
   ],
   "source": [
    "#checking for percentage of missing values in each colomns\n",
    "(df.isnull().sum()/len(df))*100"
   ]
  },
  {
   "cell_type": "code",
   "execution_count": 18,
   "id": "29dec647",
   "metadata": {},
   "outputs": [
    {
     "data": {
      "text/html": [
       "<div>\n",
       "<style scoped>\n",
       "    .dataframe tbody tr th:only-of-type {\n",
       "        vertical-align: middle;\n",
       "    }\n",
       "\n",
       "    .dataframe tbody tr th {\n",
       "        vertical-align: top;\n",
       "    }\n",
       "\n",
       "    .dataframe thead th {\n",
       "        text-align: right;\n",
       "    }\n",
       "</style>\n",
       "<table border=\"1\" class=\"dataframe\">\n",
       "  <thead>\n",
       "    <tr style=\"text-align: right;\">\n",
       "      <th></th>\n",
       "      <th>Total missing</th>\n",
       "      <th>% missing</th>\n",
       "    </tr>\n",
       "  </thead>\n",
       "  <tbody>\n",
       "    <tr>\n",
       "      <th>gender</th>\n",
       "      <td>779</td>\n",
       "      <td>4.021683</td>\n",
       "    </tr>\n",
       "    <tr>\n",
       "      <th>user_id</th>\n",
       "      <td>0</td>\n",
       "      <td>0.000000</td>\n",
       "    </tr>\n",
       "    <tr>\n",
       "      <th>original_image</th>\n",
       "      <td>0</td>\n",
       "      <td>0.000000</td>\n",
       "    </tr>\n",
       "  </tbody>\n",
       "</table>\n",
       "</div>"
      ],
      "text/plain": [
       "                Total missing  % missing\n",
       "gender                    779   4.021683\n",
       "user_id                     0   0.000000\n",
       "original_image              0   0.000000"
      ]
     },
     "execution_count": 18,
     "metadata": {},
     "output_type": "execute_result"
    }
   ],
   "source": [
    "total_miss = df.isnull().sum()\n",
    "perc_miss = total_miss/df.isnull().count()*100\n",
    "\n",
    "missing_data = pd.DataFrame({'Total missing':total_miss,'% missing':perc_miss})\n",
    "\n",
    "missing_data.sort_values(by='Total missing', ascending=False).head(3)"
   ]
  },
  {
   "cell_type": "code",
   "execution_count": 19,
   "id": "f0497c24",
   "metadata": {},
   "outputs": [
    {
     "name": "stdout",
     "output_type": "stream",
     "text": [
      "Unique Values for Each Feature: \n",
      "\n",
      "user_id : 168\n",
      "original_image : 13082\n",
      "face_id : 2284\n",
      "age : 30\n",
      "gender : 3\n",
      "x : 2207\n",
      "y : 1571\n",
      "dx : 1435\n",
      "dy : 1460\n",
      "tilt_ang : 63\n",
      "fiducial_yaw_angle : 7\n",
      "fiducial_score : 203\n"
     ]
    }
   ],
   "source": [
    "print('Unique Values for Each Feature: \\n')\n",
    "for i in df.columns:\n",
    "    print(i, ':', df[i].nunique())"
   ]
  },
  {
   "cell_type": "code",
   "execution_count": 20,
   "id": "79e84f87",
   "metadata": {},
   "outputs": [
    {
     "name": "stdout",
     "output_type": "stream",
     "text": [
      "user_id\n",
      "['30601258@N03' '20254529@N04' '37303189@N08' '62501130@N02'\n",
      " '10044155@N06' '29671106@N00' '9017386@N06' '63153065@N07' '10406201@N05'\n",
      " '68825596@N05' '113804525@N05' '113528649@N08' '20272804@N04'\n",
      " '16166376@N00' '31040257@N06' '113705978@N06' '10241064@N08'\n",
      " '34158582@N02' '45666944@N00' '39411334@N02' '113605644@N05'\n",
      " '10354155@N05' '7380406@N04' '10113099@N03' '115152228@N06' '7648211@N03'\n",
      " '100014826@N03' '7411850@N04' '33592376@N08' '113984426@N05'\n",
      " '54030085@N03' '68094148@N04' '10693681@N00' '113830953@N04'\n",
      " '114841417@N06' '10792106@N03' '20632896@N03' '30872264@N00'\n",
      " '28754132@N06' '10001312@N04' '115153697@N06' '10897942@N03'\n",
      " '114987449@N03' '10543088@N02' '8034587@N06' '101295462@N02'\n",
      " '101071073@N04' '115046815@N06' '82152000@N00' '39615950@N00'\n",
      " '10440927@N07' '34350525@N03' '18142498@N06' '10129575@N03'\n",
      " '114978798@N03' '37920461@N06' '8072696@N04' '113707938@N08'\n",
      " '54263201@N07' '10611527@N03' '115033594@N04' '8200563@N04'\n",
      " '39957446@N00' '101636677@N08' '46113291@N03' '35953373@N04'\n",
      " '104937236@N08' '37404707@N08' '64504106@N06' '115021413@N07'\n",
      " '7464014@N04' '11008464@N06' '9965452@N08' '8187011@N06' '10123180@N04'\n",
      " '113525713@N07' '7636528@N03' '63164355@N03' '115111634@N07'\n",
      " '115126086@N07' '10328235@N07' '10171175@N06' '112114373@N07'\n",
      " '112599447@N03' '20245009@N06' '39347094@N04' '66870968@N06'\n",
      " '113417044@N07' '61777259@N08' '40410287@N02' '101532586@N07'\n",
      " '44824649@N05' '10747684@N00' '113564294@N02' '10391859@N05'\n",
      " '43999398@N00' '10580682@N07' '7895525@N04' '8073752@N03' '113771355@N07'\n",
      " '68666269@N03' '19393853@N00' '113445054@N07' '50739822@N00'\n",
      " '7890646@N03' '113715068@N06' '113650443@N02' '62282816@N03'\n",
      " '113846810@N03' '60251856@N05' '48647239@N03' '114918674@N02'\n",
      " '110095806@N05' '113603634@N04' '111700049@N08' '10743505@N04'\n",
      " '9855553@N08' '7651777@N03' '114776843@N02' '45668969@N05'\n",
      " '101560979@N02' '31885615@N05' '22815721@N06' '7398884@N04'\n",
      " '115178119@N08' '115019194@N04' '98075207@N04' '114041079@N03'\n",
      " '115002895@N05' '26112397@N05' '60616055@N03' '64574820@N06'\n",
      " '7610270@N03' '10466455@N02' '113728563@N05' '115321157@N03'\n",
      " '8410632@N03' '86629393@N00' '10280355@N07' '16886060@N03' '10069023@N00'\n",
      " '33627988@N04' '10148140@N07' '102455446@N08' '20316685@N02'\n",
      " '10255165@N05' '7285955@N06' '100346410@N05' '31183835@N08'\n",
      " '48135726@N02' '8007224@N07' '20487016@N02' '114970707@N08'\n",
      " '100003415@N08' '31442459@N00' '101591466@N03' '28468602@N06'\n",
      " '10008401@N05' '11497677@N05' '10062073@N07' '15772432@N00'\n",
      " '20696814@N02' '8147776@N04' '34622581@N02' '10058630@N06'\n",
      " '101515718@N03' '50458575@N08' '7153718@N04']\n",
      "original_image\n",
      "['10399646885_67c7d20df9_o.jpg' '10424815813_e94629b1ec_o.jpg'\n",
      " '10437979845_5985be4b26_o.jpg' ... '11598166203_c70bb34c80_o.jpg'\n",
      " '11598145163_733cb99713_o.jpg' '11598013005_240c2bc9c7_o.jpg']\n",
      "age\n",
      "['(25, 32)' '(38, 43)' '(4, 6)' '(60, 100)' '(15, 20)' '(48, 53)'\n",
      " '(8, 12)' '(0, 2)' 'None' '(38, 48)' '35' '3' '55' '58' '22' '13' '45'\n",
      " '36' '23' '(38, 42)' '(8, 23)' '(27, 32)' '57' '56' '2' '29' '34' '42'\n",
      " '46' '32']\n",
      "gender\n",
      "['f' 'm' nan 'u']\n"
     ]
    }
   ],
   "source": [
    "#find the unique values from categorical features\n",
    "for col in df.select_dtypes(include='object').columns:\n",
    "    print(col)\n",
    "    print(df[col].unique())"
   ]
  },
  {
   "cell_type": "code",
   "execution_count": 21,
   "id": "5c910f4f",
   "metadata": {},
   "outputs": [
    {
     "data": {
      "text/html": [
       "<div>\n",
       "<style scoped>\n",
       "    .dataframe tbody tr th:only-of-type {\n",
       "        vertical-align: middle;\n",
       "    }\n",
       "\n",
       "    .dataframe tbody tr th {\n",
       "        vertical-align: top;\n",
       "    }\n",
       "\n",
       "    .dataframe thead th {\n",
       "        text-align: right;\n",
       "    }\n",
       "</style>\n",
       "<table border=\"1\" class=\"dataframe\">\n",
       "  <thead>\n",
       "    <tr style=\"text-align: right;\">\n",
       "      <th></th>\n",
       "      <th>face_id</th>\n",
       "      <th>x</th>\n",
       "      <th>y</th>\n",
       "      <th>dx</th>\n",
       "      <th>dy</th>\n",
       "      <th>tilt_ang</th>\n",
       "      <th>fiducial_yaw_angle</th>\n",
       "      <th>fiducial_score</th>\n",
       "    </tr>\n",
       "  </thead>\n",
       "  <tbody>\n",
       "    <tr>\n",
       "      <th>count</th>\n",
       "      <td>19370.000000</td>\n",
       "      <td>19370.000000</td>\n",
       "      <td>19370.000000</td>\n",
       "      <td>19370.000000</td>\n",
       "      <td>19370.000000</td>\n",
       "      <td>19370.000000</td>\n",
       "      <td>19370.000000</td>\n",
       "      <td>19370.000000</td>\n",
       "    </tr>\n",
       "    <tr>\n",
       "      <th>mean</th>\n",
       "      <td>1023.858906</td>\n",
       "      <td>949.670212</td>\n",
       "      <td>675.659370</td>\n",
       "      <td>633.042437</td>\n",
       "      <td>629.692463</td>\n",
       "      <td>-12.405111</td>\n",
       "      <td>3.128549</td>\n",
       "      <td>72.266598</td>\n",
       "    </tr>\n",
       "    <tr>\n",
       "      <th>std</th>\n",
       "      <td>645.385251</td>\n",
       "      <td>667.060150</td>\n",
       "      <td>429.918002</td>\n",
       "      <td>440.409036</td>\n",
       "      <td>426.296233</td>\n",
       "      <td>73.430214</td>\n",
       "      <td>15.658667</td>\n",
       "      <td>38.799247</td>\n",
       "    </tr>\n",
       "    <tr>\n",
       "      <th>min</th>\n",
       "      <td>1.000000</td>\n",
       "      <td>0.000000</td>\n",
       "      <td>0.000000</td>\n",
       "      <td>80.000000</td>\n",
       "      <td>80.000000</td>\n",
       "      <td>-205.000000</td>\n",
       "      <td>-45.000000</td>\n",
       "      <td>5.000000</td>\n",
       "    </tr>\n",
       "    <tr>\n",
       "      <th>25%</th>\n",
       "      <td>486.000000</td>\n",
       "      <td>441.250000</td>\n",
       "      <td>333.000000</td>\n",
       "      <td>324.000000</td>\n",
       "      <td>325.000000</td>\n",
       "      <td>-80.000000</td>\n",
       "      <td>0.000000</td>\n",
       "      <td>42.000000</td>\n",
       "    </tr>\n",
       "    <tr>\n",
       "      <th>50%</th>\n",
       "      <td>980.000000</td>\n",
       "      <td>852.000000</td>\n",
       "      <td>653.000000</td>\n",
       "      <td>517.000000</td>\n",
       "      <td>517.000000</td>\n",
       "      <td>-5.000000</td>\n",
       "      <td>0.000000</td>\n",
       "      <td>70.000000</td>\n",
       "    </tr>\n",
       "    <tr>\n",
       "      <th>75%</th>\n",
       "      <td>1526.000000</td>\n",
       "      <td>1359.000000</td>\n",
       "      <td>964.000000</td>\n",
       "      <td>778.000000</td>\n",
       "      <td>778.000000</td>\n",
       "      <td>5.000000</td>\n",
       "      <td>0.000000</td>\n",
       "      <td>98.000000</td>\n",
       "    </tr>\n",
       "    <tr>\n",
       "      <th>max</th>\n",
       "      <td>2284.000000</td>\n",
       "      <td>10024.000000</td>\n",
       "      <td>2752.000000</td>\n",
       "      <td>3264.000000</td>\n",
       "      <td>3225.000000</td>\n",
       "      <td>365.000000</td>\n",
       "      <td>45.000000</td>\n",
       "      <td>221.000000</td>\n",
       "    </tr>\n",
       "  </tbody>\n",
       "</table>\n",
       "</div>"
      ],
      "text/plain": [
       "            face_id             x             y            dx            dy  \\\n",
       "count  19370.000000  19370.000000  19370.000000  19370.000000  19370.000000   \n",
       "mean    1023.858906    949.670212    675.659370    633.042437    629.692463   \n",
       "std      645.385251    667.060150    429.918002    440.409036    426.296233   \n",
       "min        1.000000      0.000000      0.000000     80.000000     80.000000   \n",
       "25%      486.000000    441.250000    333.000000    324.000000    325.000000   \n",
       "50%      980.000000    852.000000    653.000000    517.000000    517.000000   \n",
       "75%     1526.000000   1359.000000    964.000000    778.000000    778.000000   \n",
       "max     2284.000000  10024.000000   2752.000000   3264.000000   3225.000000   \n",
       "\n",
       "           tilt_ang  fiducial_yaw_angle  fiducial_score  \n",
       "count  19370.000000        19370.000000    19370.000000  \n",
       "mean     -12.405111            3.128549       72.266598  \n",
       "std       73.430214           15.658667       38.799247  \n",
       "min     -205.000000          -45.000000        5.000000  \n",
       "25%      -80.000000            0.000000       42.000000  \n",
       "50%       -5.000000            0.000000       70.000000  \n",
       "75%        5.000000            0.000000       98.000000  \n",
       "max      365.000000           45.000000      221.000000  "
      ]
     },
     "execution_count": 21,
     "metadata": {},
     "output_type": "execute_result"
    }
   ],
   "source": [
    "df.describe()"
   ]
  },
  {
   "cell_type": "code",
   "execution_count": 22,
   "id": "dfd25491",
   "metadata": {},
   "outputs": [
    {
     "data": {
      "text/html": [
       "<div>\n",
       "<style scoped>\n",
       "    .dataframe tbody tr th:only-of-type {\n",
       "        vertical-align: middle;\n",
       "    }\n",
       "\n",
       "    .dataframe tbody tr th {\n",
       "        vertical-align: top;\n",
       "    }\n",
       "\n",
       "    .dataframe thead th {\n",
       "        text-align: right;\n",
       "    }\n",
       "</style>\n",
       "<table border=\"1\" class=\"dataframe\">\n",
       "  <thead>\n",
       "    <tr style=\"text-align: right;\">\n",
       "      <th></th>\n",
       "      <th>face_id</th>\n",
       "      <th>x</th>\n",
       "      <th>y</th>\n",
       "      <th>dx</th>\n",
       "      <th>dy</th>\n",
       "      <th>tilt_ang</th>\n",
       "      <th>fiducial_yaw_angle</th>\n",
       "      <th>fiducial_score</th>\n",
       "    </tr>\n",
       "  </thead>\n",
       "  <tbody>\n",
       "    <tr>\n",
       "      <th>face_id</th>\n",
       "      <td>1.000000</td>\n",
       "      <td>0.023602</td>\n",
       "      <td>-0.014870</td>\n",
       "      <td>-0.080205</td>\n",
       "      <td>-0.079217</td>\n",
       "      <td>0.000502</td>\n",
       "      <td>-0.017950</td>\n",
       "      <td>-0.060456</td>\n",
       "    </tr>\n",
       "    <tr>\n",
       "      <th>x</th>\n",
       "      <td>0.023602</td>\n",
       "      <td>1.000000</td>\n",
       "      <td>0.343700</td>\n",
       "      <td>-0.279544</td>\n",
       "      <td>-0.280495</td>\n",
       "      <td>0.212141</td>\n",
       "      <td>0.085254</td>\n",
       "      <td>0.057823</td>\n",
       "    </tr>\n",
       "    <tr>\n",
       "      <th>y</th>\n",
       "      <td>-0.014870</td>\n",
       "      <td>0.343700</td>\n",
       "      <td>1.000000</td>\n",
       "      <td>-0.296527</td>\n",
       "      <td>-0.293110</td>\n",
       "      <td>0.124087</td>\n",
       "      <td>-0.028379</td>\n",
       "      <td>0.032776</td>\n",
       "    </tr>\n",
       "    <tr>\n",
       "      <th>dx</th>\n",
       "      <td>-0.080205</td>\n",
       "      <td>-0.279544</td>\n",
       "      <td>-0.296527</td>\n",
       "      <td>1.000000</td>\n",
       "      <td>0.991960</td>\n",
       "      <td>-0.181462</td>\n",
       "      <td>0.010966</td>\n",
       "      <td>-0.042889</td>\n",
       "    </tr>\n",
       "    <tr>\n",
       "      <th>dy</th>\n",
       "      <td>-0.079217</td>\n",
       "      <td>-0.280495</td>\n",
       "      <td>-0.293110</td>\n",
       "      <td>0.991960</td>\n",
       "      <td>1.000000</td>\n",
       "      <td>-0.174128</td>\n",
       "      <td>0.009100</td>\n",
       "      <td>-0.041269</td>\n",
       "    </tr>\n",
       "    <tr>\n",
       "      <th>tilt_ang</th>\n",
       "      <td>0.000502</td>\n",
       "      <td>0.212141</td>\n",
       "      <td>0.124087</td>\n",
       "      <td>-0.181462</td>\n",
       "      <td>-0.174128</td>\n",
       "      <td>1.000000</td>\n",
       "      <td>-0.026677</td>\n",
       "      <td>0.008196</td>\n",
       "    </tr>\n",
       "    <tr>\n",
       "      <th>fiducial_yaw_angle</th>\n",
       "      <td>-0.017950</td>\n",
       "      <td>0.085254</td>\n",
       "      <td>-0.028379</td>\n",
       "      <td>0.010966</td>\n",
       "      <td>0.009100</td>\n",
       "      <td>-0.026677</td>\n",
       "      <td>1.000000</td>\n",
       "      <td>0.012730</td>\n",
       "    </tr>\n",
       "    <tr>\n",
       "      <th>fiducial_score</th>\n",
       "      <td>-0.060456</td>\n",
       "      <td>0.057823</td>\n",
       "      <td>0.032776</td>\n",
       "      <td>-0.042889</td>\n",
       "      <td>-0.041269</td>\n",
       "      <td>0.008196</td>\n",
       "      <td>0.012730</td>\n",
       "      <td>1.000000</td>\n",
       "    </tr>\n",
       "  </tbody>\n",
       "</table>\n",
       "</div>"
      ],
      "text/plain": [
       "                     face_id         x         y        dx        dy  \\\n",
       "face_id             1.000000  0.023602 -0.014870 -0.080205 -0.079217   \n",
       "x                   0.023602  1.000000  0.343700 -0.279544 -0.280495   \n",
       "y                  -0.014870  0.343700  1.000000 -0.296527 -0.293110   \n",
       "dx                 -0.080205 -0.279544 -0.296527  1.000000  0.991960   \n",
       "dy                 -0.079217 -0.280495 -0.293110  0.991960  1.000000   \n",
       "tilt_ang            0.000502  0.212141  0.124087 -0.181462 -0.174128   \n",
       "fiducial_yaw_angle -0.017950  0.085254 -0.028379  0.010966  0.009100   \n",
       "fiducial_score     -0.060456  0.057823  0.032776 -0.042889 -0.041269   \n",
       "\n",
       "                    tilt_ang  fiducial_yaw_angle  fiducial_score  \n",
       "face_id             0.000502           -0.017950       -0.060456  \n",
       "x                   0.212141            0.085254        0.057823  \n",
       "y                   0.124087           -0.028379        0.032776  \n",
       "dx                 -0.181462            0.010966       -0.042889  \n",
       "dy                 -0.174128            0.009100       -0.041269  \n",
       "tilt_ang            1.000000           -0.026677        0.008196  \n",
       "fiducial_yaw_angle -0.026677            1.000000        0.012730  \n",
       "fiducial_score      0.008196            0.012730        1.000000  "
      ]
     },
     "execution_count": 22,
     "metadata": {},
     "output_type": "execute_result"
    }
   ],
   "source": [
    "df.corr()"
   ]
  },
  {
   "cell_type": "code",
   "execution_count": 23,
   "id": "4eb672d9",
   "metadata": {},
   "outputs": [
    {
     "data": {
      "text/html": [
       "<div>\n",
       "<style scoped>\n",
       "    .dataframe tbody tr th:only-of-type {\n",
       "        vertical-align: middle;\n",
       "    }\n",
       "\n",
       "    .dataframe tbody tr th {\n",
       "        vertical-align: top;\n",
       "    }\n",
       "\n",
       "    .dataframe thead th {\n",
       "        text-align: right;\n",
       "    }\n",
       "</style>\n",
       "<table border=\"1\" class=\"dataframe\">\n",
       "  <thead>\n",
       "    <tr style=\"text-align: right;\">\n",
       "      <th></th>\n",
       "      <th>user_id</th>\n",
       "      <th>original_image</th>\n",
       "      <th>age</th>\n",
       "      <th>gender</th>\n",
       "    </tr>\n",
       "  </thead>\n",
       "  <tbody>\n",
       "    <tr>\n",
       "      <th>count</th>\n",
       "      <td>19370</td>\n",
       "      <td>19370</td>\n",
       "      <td>19370</td>\n",
       "      <td>18591</td>\n",
       "    </tr>\n",
       "    <tr>\n",
       "      <th>unique</th>\n",
       "      <td>168</td>\n",
       "      <td>13082</td>\n",
       "      <td>30</td>\n",
       "      <td>3</td>\n",
       "    </tr>\n",
       "    <tr>\n",
       "      <th>top</th>\n",
       "      <td>114841417@N06</td>\n",
       "      <td>10230680375_bdd478d293_o.jpg</td>\n",
       "      <td>(25, 32)</td>\n",
       "      <td>f</td>\n",
       "    </tr>\n",
       "    <tr>\n",
       "      <th>freq</th>\n",
       "      <td>745</td>\n",
       "      <td>15</td>\n",
       "      <td>5004</td>\n",
       "      <td>9372</td>\n",
       "    </tr>\n",
       "  </tbody>\n",
       "</table>\n",
       "</div>"
      ],
      "text/plain": [
       "              user_id                original_image       age gender\n",
       "count           19370                         19370     19370  18591\n",
       "unique            168                         13082        30      3\n",
       "top     114841417@N06  10230680375_bdd478d293_o.jpg  (25, 32)      f\n",
       "freq              745                            15      5004   9372"
      ]
     },
     "execution_count": 23,
     "metadata": {},
     "output_type": "execute_result"
    }
   ],
   "source": [
    "df.describe(include = object)"
   ]
  },
  {
   "cell_type": "code",
   "execution_count": 24,
   "id": "4c39bd97",
   "metadata": {},
   "outputs": [
    {
     "data": {
      "text/plain": [
       "array(['30601258@N03', '20254529@N04', '37303189@N08', '62501130@N02',\n",
       "       '10044155@N06', '29671106@N00', '9017386@N06', '63153065@N07',\n",
       "       '10406201@N05', '68825596@N05', '113804525@N05', '113528649@N08',\n",
       "       '20272804@N04', '16166376@N00', '31040257@N06', '113705978@N06',\n",
       "       '10241064@N08', '34158582@N02', '45666944@N00', '39411334@N02',\n",
       "       '113605644@N05', '10354155@N05', '7380406@N04', '10113099@N03',\n",
       "       '115152228@N06', '7648211@N03', '100014826@N03', '7411850@N04',\n",
       "       '33592376@N08', '113984426@N05', '54030085@N03', '68094148@N04',\n",
       "       '10693681@N00', '113830953@N04', '114841417@N06', '10792106@N03',\n",
       "       '20632896@N03', '30872264@N00', '28754132@N06', '10001312@N04',\n",
       "       '115153697@N06', '10897942@N03', '114987449@N03', '10543088@N02',\n",
       "       '8034587@N06', '101295462@N02', '101071073@N04', '115046815@N06',\n",
       "       '82152000@N00', '39615950@N00', '10440927@N07', '34350525@N03',\n",
       "       '18142498@N06', '10129575@N03', '114978798@N03', '37920461@N06',\n",
       "       '8072696@N04', '113707938@N08', '54263201@N07', '10611527@N03',\n",
       "       '115033594@N04', '8200563@N04', '39957446@N00', '101636677@N08',\n",
       "       '46113291@N03', '35953373@N04', '104937236@N08', '37404707@N08',\n",
       "       '64504106@N06', '115021413@N07', '7464014@N04', '11008464@N06',\n",
       "       '9965452@N08', '8187011@N06', '10123180@N04', '113525713@N07',\n",
       "       '7636528@N03', '63164355@N03', '115111634@N07', '115126086@N07',\n",
       "       '10328235@N07', '10171175@N06', '112114373@N07', '112599447@N03',\n",
       "       '20245009@N06', '39347094@N04', '66870968@N06', '113417044@N07',\n",
       "       '61777259@N08', '40410287@N02', '101532586@N07', '44824649@N05',\n",
       "       '10747684@N00', '113564294@N02', '10391859@N05', '43999398@N00',\n",
       "       '10580682@N07', '7895525@N04', '8073752@N03', '113771355@N07',\n",
       "       '68666269@N03', '19393853@N00', '113445054@N07', '50739822@N00',\n",
       "       '7890646@N03', '113715068@N06', '113650443@N02', '62282816@N03',\n",
       "       '113846810@N03', '60251856@N05', '48647239@N03', '114918674@N02',\n",
       "       '110095806@N05', '113603634@N04', '111700049@N08', '10743505@N04',\n",
       "       '9855553@N08', '7651777@N03', '114776843@N02', '45668969@N05',\n",
       "       '101560979@N02', '31885615@N05', '22815721@N06', '7398884@N04',\n",
       "       '115178119@N08', '115019194@N04', '98075207@N04', '114041079@N03',\n",
       "       '115002895@N05', '26112397@N05', '60616055@N03', '64574820@N06',\n",
       "       '7610270@N03', '10466455@N02', '113728563@N05', '115321157@N03',\n",
       "       '8410632@N03', '86629393@N00', '10280355@N07', '16886060@N03',\n",
       "       '10069023@N00', '33627988@N04', '10148140@N07', '102455446@N08',\n",
       "       '20316685@N02', '10255165@N05', '7285955@N06', '100346410@N05',\n",
       "       '31183835@N08', '48135726@N02', '8007224@N07', '20487016@N02',\n",
       "       '114970707@N08', '100003415@N08', '31442459@N00', '101591466@N03',\n",
       "       '28468602@N06', '10008401@N05', '11497677@N05', '10062073@N07',\n",
       "       '15772432@N00', '20696814@N02', '8147776@N04', '34622581@N02',\n",
       "       '10058630@N06', '101515718@N03', '50458575@N08', '7153718@N04'],\n",
       "      dtype=object)"
      ]
     },
     "execution_count": 24,
     "metadata": {},
     "output_type": "execute_result"
    }
   ],
   "source": [
    "userid_Series = df['user_id']\n",
    "userid_levels = userid_Series.unique()\n",
    "userid_levels"
   ]
  },
  {
   "cell_type": "code",
   "execution_count": 25,
   "id": "24dbb450",
   "metadata": {},
   "outputs": [
    {
     "data": {
      "text/plain": [
       "array(['10399646885_67c7d20df9_o.jpg', '10424815813_e94629b1ec_o.jpg',\n",
       "       '10437979845_5985be4b26_o.jpg', ...,\n",
       "       '11598166203_c70bb34c80_o.jpg', '11598145163_733cb99713_o.jpg',\n",
       "       '11598013005_240c2bc9c7_o.jpg'], dtype=object)"
      ]
     },
     "execution_count": 25,
     "metadata": {},
     "output_type": "execute_result"
    }
   ],
   "source": [
    "originalimage_Series = df['original_image']\n",
    "originalimage_levels = originalimage_Series.unique()\n",
    "originalimage_levels"
   ]
  },
  {
   "cell_type": "code",
   "execution_count": 26,
   "id": "7365c0ca",
   "metadata": {},
   "outputs": [
    {
     "data": {
      "text/plain": [
       "array(['(25, 32)', '(38, 43)', '(4, 6)', '(60, 100)', '(15, 20)',\n",
       "       '(48, 53)', '(8, 12)', '(0, 2)', 'None', '(38, 48)', '35', '3',\n",
       "       '55', '58', '22', '13', '45', '36', '23', '(38, 42)', '(8, 23)',\n",
       "       '(27, 32)', '57', '56', '2', '29', '34', '42', '46', '32'],\n",
       "      dtype=object)"
      ]
     },
     "execution_count": 26,
     "metadata": {},
     "output_type": "execute_result"
    }
   ],
   "source": [
    "age_Series = df['age']\n",
    "age_levels = age_Series.unique()\n",
    "age_levels"
   ]
  },
  {
   "cell_type": "code",
   "execution_count": 27,
   "id": "5745274b",
   "metadata": {},
   "outputs": [
    {
     "data": {
      "text/plain": [
       "array(['f', 'm', nan, 'u'], dtype=object)"
      ]
     },
     "execution_count": 27,
     "metadata": {},
     "output_type": "execute_result"
    }
   ],
   "source": [
    "gender_Series = df['gender']\n",
    "gender_levels = gender_Series.unique()\n",
    "gender_levels"
   ]
  },
  {
   "cell_type": "code",
   "execution_count": 28,
   "id": "6627e5e2",
   "metadata": {},
   "outputs": [
    {
     "data": {
      "text/html": [
       "<div>\n",
       "<style scoped>\n",
       "    .dataframe tbody tr th:only-of-type {\n",
       "        vertical-align: middle;\n",
       "    }\n",
       "\n",
       "    .dataframe tbody tr th {\n",
       "        vertical-align: top;\n",
       "    }\n",
       "\n",
       "    .dataframe thead th {\n",
       "        text-align: right;\n",
       "    }\n",
       "</style>\n",
       "<table border=\"1\" class=\"dataframe\">\n",
       "  <thead>\n",
       "    <tr style=\"text-align: right;\">\n",
       "      <th>col_0</th>\n",
       "      <th>freq</th>\n",
       "    </tr>\n",
       "    <tr>\n",
       "      <th>user_id</th>\n",
       "      <th></th>\n",
       "    </tr>\n",
       "  </thead>\n",
       "  <tbody>\n",
       "    <tr>\n",
       "      <th>100003415@N08</th>\n",
       "      <td>42</td>\n",
       "    </tr>\n",
       "    <tr>\n",
       "      <th>10001312@N04</th>\n",
       "      <td>120</td>\n",
       "    </tr>\n",
       "    <tr>\n",
       "      <th>100014826@N03</th>\n",
       "      <td>11</td>\n",
       "    </tr>\n",
       "    <tr>\n",
       "      <th>10008401@N05</th>\n",
       "      <td>27</td>\n",
       "    </tr>\n",
       "    <tr>\n",
       "      <th>100346410@N05</th>\n",
       "      <td>65</td>\n",
       "    </tr>\n",
       "    <tr>\n",
       "      <th>...</th>\n",
       "      <td>...</td>\n",
       "    </tr>\n",
       "    <tr>\n",
       "      <th>86629393@N00</th>\n",
       "      <td>281</td>\n",
       "    </tr>\n",
       "    <tr>\n",
       "      <th>9017386@N06</th>\n",
       "      <td>165</td>\n",
       "    </tr>\n",
       "    <tr>\n",
       "      <th>98075207@N04</th>\n",
       "      <td>24</td>\n",
       "    </tr>\n",
       "    <tr>\n",
       "      <th>9855553@N08</th>\n",
       "      <td>79</td>\n",
       "    </tr>\n",
       "    <tr>\n",
       "      <th>9965452@N08</th>\n",
       "      <td>271</td>\n",
       "    </tr>\n",
       "  </tbody>\n",
       "</table>\n",
       "<p>168 rows × 1 columns</p>\n",
       "</div>"
      ],
      "text/plain": [
       "col_0          freq\n",
       "user_id            \n",
       "100003415@N08    42\n",
       "10001312@N04    120\n",
       "100014826@N03    11\n",
       "10008401@N05     27\n",
       "100346410@N05    65\n",
       "...             ...\n",
       "86629393@N00    281\n",
       "9017386@N06     165\n",
       "98075207@N04     24\n",
       "9855553@N08      79\n",
       "9965452@N08     271\n",
       "\n",
       "[168 rows x 1 columns]"
      ]
     },
     "execution_count": 28,
     "metadata": {},
     "output_type": "execute_result"
    }
   ],
   "source": [
    "userid_freq_table = pd.crosstab(index = df['user_id'], columns = 'freq')\n",
    "userid_freq_table"
   ]
  },
  {
   "cell_type": "code",
   "execution_count": 29,
   "id": "16d50d17",
   "metadata": {},
   "outputs": [
    {
     "data": {
      "text/html": [
       "<div>\n",
       "<style scoped>\n",
       "    .dataframe tbody tr th:only-of-type {\n",
       "        vertical-align: middle;\n",
       "    }\n",
       "\n",
       "    .dataframe tbody tr th {\n",
       "        vertical-align: top;\n",
       "    }\n",
       "\n",
       "    .dataframe thead th {\n",
       "        text-align: right;\n",
       "    }\n",
       "</style>\n",
       "<table border=\"1\" class=\"dataframe\">\n",
       "  <thead>\n",
       "    <tr style=\"text-align: right;\">\n",
       "      <th>col_0</th>\n",
       "      <th>freq</th>\n",
       "    </tr>\n",
       "    <tr>\n",
       "      <th>age</th>\n",
       "      <th></th>\n",
       "    </tr>\n",
       "  </thead>\n",
       "  <tbody>\n",
       "    <tr>\n",
       "      <th>(0, 2)</th>\n",
       "      <td>2488</td>\n",
       "    </tr>\n",
       "    <tr>\n",
       "      <th>(15, 20)</th>\n",
       "      <td>1642</td>\n",
       "    </tr>\n",
       "    <tr>\n",
       "      <th>(25, 32)</th>\n",
       "      <td>5004</td>\n",
       "    </tr>\n",
       "    <tr>\n",
       "      <th>(27, 32)</th>\n",
       "      <td>77</td>\n",
       "    </tr>\n",
       "    <tr>\n",
       "      <th>(38, 42)</th>\n",
       "      <td>46</td>\n",
       "    </tr>\n",
       "    <tr>\n",
       "      <th>(38, 43)</th>\n",
       "      <td>2293</td>\n",
       "    </tr>\n",
       "    <tr>\n",
       "      <th>(38, 48)</th>\n",
       "      <td>6</td>\n",
       "    </tr>\n",
       "    <tr>\n",
       "      <th>(4, 6)</th>\n",
       "      <td>2140</td>\n",
       "    </tr>\n",
       "    <tr>\n",
       "      <th>(48, 53)</th>\n",
       "      <td>830</td>\n",
       "    </tr>\n",
       "    <tr>\n",
       "      <th>(60, 100)</th>\n",
       "      <td>872</td>\n",
       "    </tr>\n",
       "    <tr>\n",
       "      <th>(8, 12)</th>\n",
       "      <td>2124</td>\n",
       "    </tr>\n",
       "    <tr>\n",
       "      <th>(8, 23)</th>\n",
       "      <td>1</td>\n",
       "    </tr>\n",
       "    <tr>\n",
       "      <th>13</th>\n",
       "      <td>168</td>\n",
       "    </tr>\n",
       "    <tr>\n",
       "      <th>2</th>\n",
       "      <td>3</td>\n",
       "    </tr>\n",
       "    <tr>\n",
       "      <th>22</th>\n",
       "      <td>149</td>\n",
       "    </tr>\n",
       "    <tr>\n",
       "      <th>23</th>\n",
       "      <td>96</td>\n",
       "    </tr>\n",
       "    <tr>\n",
       "      <th>29</th>\n",
       "      <td>11</td>\n",
       "    </tr>\n",
       "    <tr>\n",
       "      <th>3</th>\n",
       "      <td>18</td>\n",
       "    </tr>\n",
       "    <tr>\n",
       "      <th>32</th>\n",
       "      <td>3</td>\n",
       "    </tr>\n",
       "    <tr>\n",
       "      <th>34</th>\n",
       "      <td>105</td>\n",
       "    </tr>\n",
       "    <tr>\n",
       "      <th>35</th>\n",
       "      <td>293</td>\n",
       "    </tr>\n",
       "    <tr>\n",
       "      <th>36</th>\n",
       "      <td>56</td>\n",
       "    </tr>\n",
       "    <tr>\n",
       "      <th>42</th>\n",
       "      <td>1</td>\n",
       "    </tr>\n",
       "    <tr>\n",
       "      <th>45</th>\n",
       "      <td>88</td>\n",
       "    </tr>\n",
       "    <tr>\n",
       "      <th>46</th>\n",
       "      <td>1</td>\n",
       "    </tr>\n",
       "    <tr>\n",
       "      <th>55</th>\n",
       "      <td>76</td>\n",
       "    </tr>\n",
       "    <tr>\n",
       "      <th>56</th>\n",
       "      <td>2</td>\n",
       "    </tr>\n",
       "    <tr>\n",
       "      <th>57</th>\n",
       "      <td>24</td>\n",
       "    </tr>\n",
       "    <tr>\n",
       "      <th>58</th>\n",
       "      <td>5</td>\n",
       "    </tr>\n",
       "    <tr>\n",
       "      <th>None</th>\n",
       "      <td>748</td>\n",
       "    </tr>\n",
       "  </tbody>\n",
       "</table>\n",
       "</div>"
      ],
      "text/plain": [
       "col_0      freq\n",
       "age            \n",
       "(0, 2)     2488\n",
       "(15, 20)   1642\n",
       "(25, 32)   5004\n",
       "(27, 32)     77\n",
       "(38, 42)     46\n",
       "(38, 43)   2293\n",
       "(38, 48)      6\n",
       "(4, 6)     2140\n",
       "(48, 53)    830\n",
       "(60, 100)   872\n",
       "(8, 12)    2124\n",
       "(8, 23)       1\n",
       "13          168\n",
       "2             3\n",
       "22          149\n",
       "23           96\n",
       "29           11\n",
       "3            18\n",
       "32            3\n",
       "34          105\n",
       "35          293\n",
       "36           56\n",
       "42            1\n",
       "45           88\n",
       "46            1\n",
       "55           76\n",
       "56            2\n",
       "57           24\n",
       "58            5\n",
       "None        748"
      ]
     },
     "execution_count": 29,
     "metadata": {},
     "output_type": "execute_result"
    }
   ],
   "source": [
    "age_freq_table = pd.crosstab(index = df['age'], columns = 'freq')\n",
    "age_freq_table"
   ]
  },
  {
   "cell_type": "code",
   "execution_count": 30,
   "id": "d79f576d",
   "metadata": {},
   "outputs": [
    {
     "data": {
      "text/html": [
       "<div>\n",
       "<style scoped>\n",
       "    .dataframe tbody tr th:only-of-type {\n",
       "        vertical-align: middle;\n",
       "    }\n",
       "\n",
       "    .dataframe tbody tr th {\n",
       "        vertical-align: top;\n",
       "    }\n",
       "\n",
       "    .dataframe thead th {\n",
       "        text-align: right;\n",
       "    }\n",
       "</style>\n",
       "<table border=\"1\" class=\"dataframe\">\n",
       "  <thead>\n",
       "    <tr style=\"text-align: right;\">\n",
       "      <th>col_0</th>\n",
       "      <th>freq</th>\n",
       "    </tr>\n",
       "    <tr>\n",
       "      <th>gender</th>\n",
       "      <th></th>\n",
       "    </tr>\n",
       "  </thead>\n",
       "  <tbody>\n",
       "    <tr>\n",
       "      <th>f</th>\n",
       "      <td>9372</td>\n",
       "    </tr>\n",
       "    <tr>\n",
       "      <th>m</th>\n",
       "      <td>8120</td>\n",
       "    </tr>\n",
       "    <tr>\n",
       "      <th>u</th>\n",
       "      <td>1099</td>\n",
       "    </tr>\n",
       "  </tbody>\n",
       "</table>\n",
       "</div>"
      ],
      "text/plain": [
       "col_0   freq\n",
       "gender      \n",
       "f       9372\n",
       "m       8120\n",
       "u       1099"
      ]
     },
     "execution_count": 30,
     "metadata": {},
     "output_type": "execute_result"
    }
   ],
   "source": [
    "gender_freq_table = pd.crosstab(index = df['gender'], columns = 'freq')\n",
    "gender_freq_table"
   ]
  },
  {
   "cell_type": "code",
   "execution_count": 31,
   "id": "b3de946b",
   "metadata": {},
   "outputs": [
    {
     "name": "stdout",
     "output_type": "stream",
     "text": [
      "Number of numerical variables:  11\n"
     ]
    }
   ],
   "source": [
    "#list of numerical variables\n",
    "numerical_features = [feature for feature in df.columns if ((df[feature].dtypes!= '0')& (feature not in['y']))]\n",
    "print('Number of numerical variables: ', len(numerical_features))"
   ]
  },
  {
   "cell_type": "code",
   "execution_count": 32,
   "id": "64732360",
   "metadata": {},
   "outputs": [
    {
     "name": "stdout",
     "output_type": "stream",
     "text": [
      "Discrete Variables Count: 2\n"
     ]
    }
   ],
   "source": [
    "#Discrete Numerical Features\n",
    "discrete_features=[feature for feature in numerical_features if len(df[feature].unique())<25]\n",
    "print(\"Discrete Variables Count: {}\".format(len(discrete_features)))"
   ]
  },
  {
   "cell_type": "code",
   "execution_count": 33,
   "id": "ab110226",
   "metadata": {},
   "outputs": [
    {
     "name": "stdout",
     "output_type": "stream",
     "text": [
      "Continuous feature Count: 9\n"
     ]
    }
   ],
   "source": [
    "#Continuous Numerical Features\n",
    "continuous_features=[feature for feature in numerical_features if feature not in discrete_features+['deposit']]\n",
    "print(\"Continuous feature Count: {}\".format(len(continuous_features)))"
   ]
  },
  {
   "cell_type": "code",
   "execution_count": 34,
   "id": "6a17600f",
   "metadata": {},
   "outputs": [
    {
     "data": {
      "image/png": "[encoded data removed]",
      "text/plain": [
       "<Figure size 1440x1440 with 9 Axes>"
      ]
     },
     "metadata": {
      "needs_background": "light"
     },
     "output_type": "display_data"
    }
   ],
   "source": [
    "df.hist(figsize=(20,20))\n",
    "plt.show()"
   ]
  },
  {
   "cell_type": "code",
   "execution_count": 35,
   "id": "d32a3c9d",
   "metadata": {},
   "outputs": [
    {
     "data": {
      "text/plain": [
       "<AxesSubplot:>"
      ]
     },
     "execution_count": 35,
     "metadata": {},
     "output_type": "execute_result"
    },
    {
     "data": {
      "image/png": "[encoded data removed]",
      "text/plain": [
       "<Figure size 1800x864 with 2 Axes>"
      ]
     },
     "metadata": {
      "needs_background": "light"
     },
     "output_type": "display_data"
    }
   ],
   "source": [
    "matrix = df.corr()\n",
    "f, ax = plt.subplots(figsize=(25, 12))\n",
    "sns.heatmap(matrix, vmax=.8, square=True, cmap=\"RdYlGn\",annot = True)"
   ]
  },
  {
   "cell_type": "code",
   "execution_count": 36,
   "id": "2abb5d4d",
   "metadata": {},
   "outputs": [
    {
     "data": {
      "text/html": [
       "<div>\n",
       "<style scoped>\n",
       "    .dataframe tbody tr th:only-of-type {\n",
       "        vertical-align: middle;\n",
       "    }\n",
       "\n",
       "    .dataframe tbody tr th {\n",
       "        vertical-align: top;\n",
       "    }\n",
       "\n",
       "    .dataframe thead th {\n",
       "        text-align: right;\n",
       "    }\n",
       "</style>\n",
       "<table border=\"1\" class=\"dataframe\">\n",
       "  <thead>\n",
       "    <tr style=\"text-align: right;\">\n",
       "      <th></th>\n",
       "      <th>user_id</th>\n",
       "      <th>original_image</th>\n",
       "      <th>face_id</th>\n",
       "      <th>age</th>\n",
       "      <th>gender</th>\n",
       "      <th>x</th>\n",
       "      <th>y</th>\n",
       "      <th>dx</th>\n",
       "      <th>dy</th>\n",
       "      <th>tilt_ang</th>\n",
       "      <th>fiducial_yaw_angle</th>\n",
       "      <th>fiducial_score</th>\n",
       "    </tr>\n",
       "  </thead>\n",
       "  <tbody>\n",
       "    <tr>\n",
       "      <th>0</th>\n",
       "      <td>30601258@N03</td>\n",
       "      <td>10399646885_67c7d20df9_o.jpg</td>\n",
       "      <td>1</td>\n",
       "      <td>(25, 32)</td>\n",
       "      <td>f</td>\n",
       "      <td>0</td>\n",
       "      <td>414</td>\n",
       "      <td>1086</td>\n",
       "      <td>1383</td>\n",
       "      <td>-115</td>\n",
       "      <td>30</td>\n",
       "      <td>17</td>\n",
       "    </tr>\n",
       "    <tr>\n",
       "      <th>1</th>\n",
       "      <td>30601258@N03</td>\n",
       "      <td>10424815813_e94629b1ec_o.jpg</td>\n",
       "      <td>2</td>\n",
       "      <td>(25, 32)</td>\n",
       "      <td>m</td>\n",
       "      <td>301</td>\n",
       "      <td>105</td>\n",
       "      <td>640</td>\n",
       "      <td>641</td>\n",
       "      <td>0</td>\n",
       "      <td>0</td>\n",
       "      <td>94</td>\n",
       "    </tr>\n",
       "    <tr>\n",
       "      <th>2</th>\n",
       "      <td>30601258@N03</td>\n",
       "      <td>10437979845_5985be4b26_o.jpg</td>\n",
       "      <td>1</td>\n",
       "      <td>(25, 32)</td>\n",
       "      <td>f</td>\n",
       "      <td>2395</td>\n",
       "      <td>876</td>\n",
       "      <td>771</td>\n",
       "      <td>771</td>\n",
       "      <td>175</td>\n",
       "      <td>-30</td>\n",
       "      <td>74</td>\n",
       "    </tr>\n",
       "    <tr>\n",
       "      <th>3</th>\n",
       "      <td>30601258@N03</td>\n",
       "      <td>10437979845_5985be4b26_o.jpg</td>\n",
       "      <td>3</td>\n",
       "      <td>(25, 32)</td>\n",
       "      <td>m</td>\n",
       "      <td>752</td>\n",
       "      <td>1255</td>\n",
       "      <td>484</td>\n",
       "      <td>485</td>\n",
       "      <td>180</td>\n",
       "      <td>0</td>\n",
       "      <td>47</td>\n",
       "    </tr>\n",
       "    <tr>\n",
       "      <th>4</th>\n",
       "      <td>30601258@N03</td>\n",
       "      <td>11816644924_075c3d8d59_o.jpg</td>\n",
       "      <td>2</td>\n",
       "      <td>(25, 32)</td>\n",
       "      <td>m</td>\n",
       "      <td>175</td>\n",
       "      <td>80</td>\n",
       "      <td>769</td>\n",
       "      <td>768</td>\n",
       "      <td>-75</td>\n",
       "      <td>0</td>\n",
       "      <td>34</td>\n",
       "    </tr>\n",
       "  </tbody>\n",
       "</table>\n",
       "</div>"
      ],
      "text/plain": [
       "        user_id                original_image  face_id       age gender     x  \\\n",
       "0  30601258@N03  10399646885_67c7d20df9_o.jpg        1  (25, 32)      f     0   \n",
       "1  30601258@N03  10424815813_e94629b1ec_o.jpg        2  (25, 32)      m   301   \n",
       "2  30601258@N03  10437979845_5985be4b26_o.jpg        1  (25, 32)      f  2395   \n",
       "3  30601258@N03  10437979845_5985be4b26_o.jpg        3  (25, 32)      m   752   \n",
       "4  30601258@N03  11816644924_075c3d8d59_o.jpg        2  (25, 32)      m   175   \n",
       "\n",
       "      y    dx    dy  tilt_ang  fiducial_yaw_angle  fiducial_score  \n",
       "0   414  1086  1383      -115                  30              17  \n",
       "1   105   640   641         0                   0              94  \n",
       "2   876   771   771       175                 -30              74  \n",
       "3  1255   484   485       180                   0              47  \n",
       "4    80   769   768       -75                   0              34  "
      ]
     },
     "execution_count": 36,
     "metadata": {},
     "output_type": "execute_result"
    }
   ],
   "source": [
    "df = df.dropna()\n",
    "#print(df)\n",
    "df.head()"
   ]
  },
  {
   "cell_type": "code",
   "execution_count": 37,
   "id": "345849c1",
   "metadata": {},
   "outputs": [
    {
     "data": {
      "text/plain": [
       "user_id               0\n",
       "original_image        0\n",
       "face_id               0\n",
       "age                   0\n",
       "gender                0\n",
       "x                     0\n",
       "y                     0\n",
       "dx                    0\n",
       "dy                    0\n",
       "tilt_ang              0\n",
       "fiducial_yaw_angle    0\n",
       "fiducial_score        0\n",
       "dtype: int64"
      ]
     },
     "execution_count": 37,
     "metadata": {},
     "output_type": "execute_result"
    }
   ],
   "source": [
    "df.dropna(inplace = True)\n",
    "df. isnull().sum()"
   ]
  },
  {
   "cell_type": "code",
   "execution_count": 38,
   "id": "802e3994",
   "metadata": {},
   "outputs": [
    {
     "data": {
      "text/plain": [
       "['user_id', 'original_image', 'age', 'gender']"
      ]
     },
     "execution_count": 38,
     "metadata": {},
     "output_type": "execute_result"
    }
   ],
   "source": [
    "categorical_cols = list(df.select_dtypes(include=['object']))\n",
    "categorical_cols"
   ]
  },
  {
   "cell_type": "code",
   "execution_count": 39,
   "id": "428c1020",
   "metadata": {},
   "outputs": [],
   "source": [
    "def bar_plot(variable):\n",
    "    var = df[variable]\n",
    "    varValue = var.value_counts()\n",
    "    plt.figure(figsize=(15,3))\n",
    "    plt.bar(varValue.index, varValue,color=['#00008b', '#00e5ee', '#cd1076', '#008080', '#cd5555', 'red', 'blue'])\n",
    "    plt.xticks(varValue.index, varValue.index.values)\n",
    "    plt.ylabel(\"Frequency\")\n",
    "    plt.title(variable)\n",
    "    \n",
    "    plt.show()\n",
    "    print(\"{}: \\n {}\".format(variable,varValue))"
   ]
  },
  {
   "cell_type": "code",
   "execution_count": 40,
   "id": "1e19065e",
   "metadata": {},
   "outputs": [
    {
     "data": {
      "image/png": "[encoded data removed]",
      "text/plain": [
       "<Figure size 1080x216 with 1 Axes>"
      ]
     },
     "metadata": {
      "needs_background": "light"
     },
     "output_type": "display_data"
    },
    {
     "name": "stdout",
     "output_type": "stream",
     "text": [
      "age: \n",
      " (25, 32)     4953\n",
      "(0, 2)       2488\n",
      "(38, 43)     2293\n",
      "(4, 6)       2140\n",
      "(8, 12)      2119\n",
      "(15, 20)     1642\n",
      "(60, 100)     867\n",
      "(48, 53)      825\n",
      "35            293\n",
      "13            168\n",
      "22            149\n",
      "34            105\n",
      "23             96\n",
      "45             88\n",
      "(27, 32)       77\n",
      "55             76\n",
      "36             56\n",
      "(38, 42)       46\n",
      "None           40\n",
      "57             24\n",
      "3              18\n",
      "29             11\n",
      "(38, 48)        6\n",
      "58              5\n",
      "2               3\n",
      "(8, 23)         1\n",
      "42              1\n",
      "46              1\n",
      "Name: age, dtype: int64\n"
     ]
    },
    {
     "data": {
      "image/png": "[encoded data removed]",
      "text/plain": [
       "<Figure size 1080x216 with 1 Axes>"
      ]
     },
     "metadata": {
      "needs_background": "light"
     },
     "output_type": "display_data"
    },
    {
     "name": "stdout",
     "output_type": "stream",
     "text": [
      "gender: \n",
      " f    9372\n",
      "m    8120\n",
      "u    1099\n",
      "Name: gender, dtype: int64\n"
     ]
    }
   ],
   "source": [
    "categorical_cols = ['age', 'gender']\n",
    "for c in categorical_cols:\n",
    "    bar_plot(c)"
   ]
  },
  {
   "cell_type": "code",
   "execution_count": 41,
   "id": "bbfca01e",
   "metadata": {},
   "outputs": [
    {
     "name": "stdout",
     "output_type": "stream",
     "text": [
      "------------- user_id value counts---------------------\n",
      "114841417@N06    745\n",
      "30601258@N03     741\n",
      "29671106@N00     598\n",
      "20254529@N04     557\n",
      "8410632@N03      542\n",
      "                ... \n",
      "50458575@N08       2\n",
      "113771355@N07      2\n",
      "68666269@N03       2\n",
      "104937236@N08      1\n",
      "10693681@N00       1\n",
      "Name: user_id, Length: 163, dtype: int64\n",
      "\n",
      "\n",
      "------------Number of categories in each columns-----------------\n",
      "There are163 categories in user_id\n",
      "There are12489 categories in original_image\n",
      "There are28 categories in age\n",
      "There are3 categories in gender\n",
      "------------- original_image value counts---------------------\n",
      "11014305184_25bc533930_o.jpg    15\n",
      "10230677545_1be11b5762_o.jpg    15\n",
      "10230680375_bdd478d293_o.jpg    15\n",
      "12120012874_6f5202c1f9_o.jpg    14\n",
      "12119902023_bb49e9b241_o.jpg    14\n",
      "                                ..\n",
      "9809793275_02af095645_o.jpg      1\n",
      "11212351504_fd1174786f_o.jpg     1\n",
      "10653600254_e174723012_o.jpg     1\n",
      "11827103153_fab1d5dc63_o.jpg     1\n",
      "9429464468_1bfc39ecfb_o.jpg      1\n",
      "Name: original_image, Length: 12489, dtype: int64\n",
      "\n",
      "\n",
      "------------Number of categories in each columns-----------------\n",
      "There are163 categories in user_id\n",
      "There are12489 categories in original_image\n",
      "There are28 categories in age\n",
      "There are3 categories in gender\n",
      "------------- age value counts---------------------\n",
      "(25, 32)     4953\n",
      "(0, 2)       2488\n",
      "(38, 43)     2293\n",
      "(4, 6)       2140\n",
      "(8, 12)      2119\n",
      "(15, 20)     1642\n",
      "(60, 100)     867\n",
      "(48, 53)      825\n",
      "35            293\n",
      "13            168\n",
      "22            149\n",
      "34            105\n",
      "23             96\n",
      "45             88\n",
      "(27, 32)       77\n",
      "55             76\n",
      "36             56\n",
      "(38, 42)       46\n",
      "None           40\n",
      "57             24\n",
      "3              18\n",
      "29             11\n",
      "(38, 48)        6\n",
      "58              5\n",
      "2               3\n",
      "(8, 23)         1\n",
      "42              1\n",
      "46              1\n",
      "Name: age, dtype: int64\n",
      "\n",
      "\n",
      "------------Number of categories in each columns-----------------\n",
      "There are163 categories in user_id\n",
      "There are12489 categories in original_image\n",
      "There are28 categories in age\n",
      "There are3 categories in gender\n",
      "------------- gender value counts---------------------\n",
      "f    9372\n",
      "m    8120\n",
      "u    1099\n",
      "Name: gender, dtype: int64\n",
      "\n",
      "\n",
      "------------Number of categories in each columns-----------------\n",
      "There are163 categories in user_id\n",
      "There are12489 categories in original_image\n",
      "There are28 categories in age\n",
      "There are3 categories in gender\n"
     ]
    }
   ],
   "source": [
    "def Count_categorcial_variables(df):\n",
    "    categorcial_variables = df.select_dtypes(include=['object']).columns.tolist()\n",
    "    \n",
    "    for index, col in enumerate(categorcial_variables):\n",
    "        print(\"-------------\",col,\"value counts---------------------\")\n",
    "        print(df[col].value_counts())\n",
    "        \n",
    "        \n",
    "        print(\"\\n\\n------------Number of categories in each columns-----------------\")\n",
    "        for i in categorcial_variables:\n",
    "            a = df[i].unique()\n",
    "            print(\"There are{} categories in {}\".format(len(a),i))\n",
    "Count_categorcial_variables(df)"
   ]
  },
  {
   "cell_type": "code",
   "execution_count": 42,
   "id": "033aca2c",
   "metadata": {},
   "outputs": [
    {
     "data": {
      "text/plain": [
       "f    9372\n",
       "m    8120\n",
       "u    1099\n",
       "Name: gender, dtype: int64"
      ]
     },
     "execution_count": 42,
     "metadata": {},
     "output_type": "execute_result"
    }
   ],
   "source": [
    "df['gender'].value_counts()"
   ]
  },
  {
   "cell_type": "code",
   "execution_count": 43,
   "id": "2bbe63b1",
   "metadata": {},
   "outputs": [
    {
     "data": {
      "text/plain": [
       "<AxesSubplot:xlabel='count', ylabel='gender'>"
      ]
     },
     "execution_count": 43,
     "metadata": {},
     "output_type": "execute_result"
    },
    {
     "data": {
      "image/png": "[encoded data removed]",
      "text/plain": [
       "<Figure size 720x1440 with 1 Axes>"
      ]
     },
     "metadata": {
      "needs_background": "light"
     },
     "output_type": "display_data"
    }
   ],
   "source": [
    "plt.figure(figsize=(10,20))\n",
    "sns.countplot(y = df['gender'])"
   ]
  },
  {
   "cell_type": "code",
   "execution_count": 44,
   "id": "9ebe56a6",
   "metadata": {},
   "outputs": [
    {
     "data": {
      "text/plain": [
       "<AxesSubplot:ylabel='gender'>"
      ]
     },
     "execution_count": 44,
     "metadata": {},
     "output_type": "execute_result"
    },
    {
     "data": {
      "image/png": "[encoded data removed]",
      "text/plain": [
       "<Figure size 720x720 with 1 Axes>"
      ]
     },
     "metadata": {},
     "output_type": "display_data"
    }
   ],
   "source": [
    "plt.figure(figsize=(10,10))\n",
    "df['gender'].value_counts().plot.pie(autopct=\"%0.2f%%\")"
   ]
  },
  {
   "cell_type": "code",
   "execution_count": 45,
   "id": "58f49ce5",
   "metadata": {},
   "outputs": [
    {
     "data": {
      "text/plain": [
       "(25, 32)     4953\n",
       "(0, 2)       2488\n",
       "(38, 43)     2293\n",
       "(4, 6)       2140\n",
       "(8, 12)      2119\n",
       "(15, 20)     1642\n",
       "(60, 100)     867\n",
       "(48, 53)      825\n",
       "35            293\n",
       "13            168\n",
       "22            149\n",
       "34            105\n",
       "23             96\n",
       "45             88\n",
       "(27, 32)       77\n",
       "55             76\n",
       "36             56\n",
       "(38, 42)       46\n",
       "None           40\n",
       "57             24\n",
       "3              18\n",
       "29             11\n",
       "(38, 48)        6\n",
       "58              5\n",
       "2               3\n",
       "(8, 23)         1\n",
       "42              1\n",
       "46              1\n",
       "Name: age, dtype: int64"
      ]
     },
     "execution_count": 45,
     "metadata": {},
     "output_type": "execute_result"
    }
   ],
   "source": [
    "df['age'].value_counts()"
   ]
  },
  {
   "cell_type": "code",
   "execution_count": 46,
   "id": "97954f14",
   "metadata": {},
   "outputs": [
    {
     "data": {
      "text/plain": [
       "<AxesSubplot:xlabel='count', ylabel='age'>"
      ]
     },
     "execution_count": 46,
     "metadata": {},
     "output_type": "execute_result"
    },
    {
     "data": {
      "image/png": "[encoded data removed]",
      "text/plain": [
       "<Figure size 720x720 with 1 Axes>"
      ]
     },
     "metadata": {
      "needs_background": "light"
     },
     "output_type": "display_data"
    }
   ],
   "source": [
    "plt.figure(figsize=(10,10))\n",
    "sns.countplot(y = df['age'])"
   ]
  },
  {
   "cell_type": "code",
   "execution_count": 47,
   "id": "ad309972",
   "metadata": {},
   "outputs": [
    {
     "data": {
      "text/plain": [
       "<AxesSubplot:ylabel='age'>"
      ]
     },
     "execution_count": 47,
     "metadata": {},
     "output_type": "execute_result"
    },
    {
     "data": {
      "image/png": "[encoded data removed]",
      "text/plain": [
       "<Figure size 720x720 with 1 Axes>"
      ]
     },
     "metadata": {},
     "output_type": "display_data"
    }
   ],
   "source": [
    "plt.figure(figsize=(10,10))\n",
    "df['age'].value_counts().plot.pie(autopct=\"%0.2f%%\")"
   ]
  },
  {
   "cell_type": "code",
   "execution_count": 48,
   "id": "52c40cbc",
   "metadata": {},
   "outputs": [
    {
     "data": {
      "image/png": "[encoded data removed]",
      "text/plain": [
       "<Figure size 432x288 with 1 Axes>"
      ]
     },
     "metadata": {
      "needs_background": "light"
     },
     "output_type": "display_data"
    }
   ],
   "source": [
    "#bar chart\n",
    "gender = ['f', 'm', 'u']\n",
    "plt.bar(gender, df.gender.value_counts(), align='center', alpha=0.5)\n",
    "plt.show()"
   ]
  },
  {
   "cell_type": "code",
   "execution_count": 49,
   "id": "64fd5027",
   "metadata": {},
   "outputs": [],
   "source": [
    "import tensorflow as tf\n",
    "from keras.models import Sequential\n",
    "from keras.layers import Conv2D, MaxPooling2D, Activation, Dropout, Flatten,Dense, Dropout, LayerNormalization\n",
    "from keras.preprocessing.image import ImageDataGenerator,img_to_array,load_img"
   ]
  },
  {
   "cell_type": "code",
   "execution_count": 54,
   "id": "7982aafd",
   "metadata": {},
   "outputs": [
    {
     "data": {
      "image/png": "[encoded data removed]",
      "text/plain": [
       "<Figure size 432x288 with 1 Axes>"
      ]
     },
     "metadata": {
      "needs_background": "light"
     },
     "output_type": "display_data"
    }
   ],
   "source": [
    "path = r\"C:\\Users\\ankita adhav\\OneDrive\\Desktop\\Age and Gender detection\\AdienceBenchmarkGenderAndAgeClassification\\AdienceBenchmarkGenderAndAgeClassification\\faces\\10001312@N04\\coarse_tilt_aligned_face.616.8531990910_8f65e5a4e2_o.jpg\"\n",
    "img = load_img(path)\n",
    "plt.imshow(img)\n",
    "plt.show()"
   ]
  },
  {
   "cell_type": "code",
   "execution_count": 55,
   "id": "1cec6162",
   "metadata": {},
   "outputs": [
    {
     "name": "stdout",
     "output_type": "stream",
     "text": [
      "<class 'pandas.core.frame.DataFrame'>\n",
      "Int64Index: 18591 entries, 0 to 19345\n",
      "Data columns (total 6 columns):\n",
      " #   Column  Non-Null Count  Dtype \n",
      "---  ------  --------------  ----- \n",
      " 0   age     18591 non-null  object\n",
      " 1   gender  18591 non-null  object\n",
      " 2   x       18591 non-null  int64 \n",
      " 3   y       18591 non-null  int64 \n",
      " 4   dx      18591 non-null  int64 \n",
      " 5   dy      18591 non-null  int64 \n",
      "dtypes: int64(4), object(2)\n",
      "memory usage: 1.5+ MB\n"
     ]
    },
    {
     "data": {
      "text/html": [
       "<div>\n",
       "<style scoped>\n",
       "    .dataframe tbody tr th:only-of-type {\n",
       "        vertical-align: middle;\n",
       "    }\n",
       "\n",
       "    .dataframe tbody tr th {\n",
       "        vertical-align: top;\n",
       "    }\n",
       "\n",
       "    .dataframe thead th {\n",
       "        text-align: right;\n",
       "    }\n",
       "</style>\n",
       "<table border=\"1\" class=\"dataframe\">\n",
       "  <thead>\n",
       "    <tr style=\"text-align: right;\">\n",
       "      <th></th>\n",
       "      <th>age</th>\n",
       "      <th>gender</th>\n",
       "      <th>x</th>\n",
       "      <th>y</th>\n",
       "      <th>dx</th>\n",
       "      <th>dy</th>\n",
       "      <th>img_path</th>\n",
       "    </tr>\n",
       "  </thead>\n",
       "  <tbody>\n",
       "    <tr>\n",
       "      <th>0</th>\n",
       "      <td>(25, 32)</td>\n",
       "      <td>f</td>\n",
       "      <td>0</td>\n",
       "      <td>414</td>\n",
       "      <td>1086</td>\n",
       "      <td>1383</td>\n",
       "      <td>C:\\Users\\ankita adhav\\OneDrive\\Desktop\\Age and...</td>\n",
       "    </tr>\n",
       "    <tr>\n",
       "      <th>1</th>\n",
       "      <td>(25, 32)</td>\n",
       "      <td>m</td>\n",
       "      <td>301</td>\n",
       "      <td>105</td>\n",
       "      <td>640</td>\n",
       "      <td>641</td>\n",
       "      <td>C:\\Users\\ankita adhav\\OneDrive\\Desktop\\Age and...</td>\n",
       "    </tr>\n",
       "    <tr>\n",
       "      <th>2</th>\n",
       "      <td>(25, 32)</td>\n",
       "      <td>f</td>\n",
       "      <td>2395</td>\n",
       "      <td>876</td>\n",
       "      <td>771</td>\n",
       "      <td>771</td>\n",
       "      <td>C:\\Users\\ankita adhav\\OneDrive\\Desktop\\Age and...</td>\n",
       "    </tr>\n",
       "    <tr>\n",
       "      <th>3</th>\n",
       "      <td>(25, 32)</td>\n",
       "      <td>m</td>\n",
       "      <td>752</td>\n",
       "      <td>1255</td>\n",
       "      <td>484</td>\n",
       "      <td>485</td>\n",
       "      <td>C:\\Users\\ankita adhav\\OneDrive\\Desktop\\Age and...</td>\n",
       "    </tr>\n",
       "    <tr>\n",
       "      <th>4</th>\n",
       "      <td>(25, 32)</td>\n",
       "      <td>m</td>\n",
       "      <td>175</td>\n",
       "      <td>80</td>\n",
       "      <td>769</td>\n",
       "      <td>768</td>\n",
       "      <td>C:\\Users\\ankita adhav\\OneDrive\\Desktop\\Age and...</td>\n",
       "    </tr>\n",
       "  </tbody>\n",
       "</table>\n",
       "</div>"
      ],
      "text/plain": [
       "        age gender     x     y    dx    dy  \\\n",
       "0  (25, 32)      f     0   414  1086  1383   \n",
       "1  (25, 32)      m   301   105   640   641   \n",
       "2  (25, 32)      f  2395   876   771   771   \n",
       "3  (25, 32)      m   752  1255   484   485   \n",
       "4  (25, 32)      m   175    80   769   768   \n",
       "\n",
       "                                            img_path  \n",
       "0  C:\\Users\\ankita adhav\\OneDrive\\Desktop\\Age and...  \n",
       "1  C:\\Users\\ankita adhav\\OneDrive\\Desktop\\Age and...  \n",
       "2  C:\\Users\\ankita adhav\\OneDrive\\Desktop\\Age and...  \n",
       "3  C:\\Users\\ankita adhav\\OneDrive\\Desktop\\Age and...  \n",
       "4  C:\\Users\\ankita adhav\\OneDrive\\Desktop\\Age and...  "
      ]
     },
     "execution_count": 55,
     "metadata": {},
     "output_type": "execute_result"
    }
   ],
   "source": [
    "imp_data = df[['age', 'gender', 'x', 'y', 'dx', 'dy']].copy()\n",
    "imp_data.info()\n",
    "img_path = []\n",
    "for row in df.iterrows():\n",
    "    path = r\"C:\\Users\\ankita adhav\\OneDrive\\Desktop\\Age and Gender detection\\AdienceBenchmarkGenderAndAgeClassification\\AdienceBenchmarkGenderAndAgeClassification\\faces\\10001312@N04\\coarse_tilt_aligned_face.616.8531990910_8f65e5a4e2_o.jpg\"\n",
    "    img_path.append(path)\n",
    "imp_data['img_path'] = img_path\n",
    "imp_data.head()"
   ]
  },
  {
   "cell_type": "code",
   "execution_count": 56,
   "id": "a062c43e",
   "metadata": {},
   "outputs": [
    {
     "name": "stdout",
     "output_type": "stream",
     "text": [
      "<class 'pandas.core.frame.DataFrame'>\n",
      "Int64Index: 17492 entries, 0 to 19345\n",
      "Data columns (total 7 columns):\n",
      " #   Column    Non-Null Count  Dtype \n",
      "---  ------    --------------  ----- \n",
      " 0   age       17492 non-null  object\n",
      " 1   gender    17492 non-null  object\n",
      " 2   x         17492 non-null  int64 \n",
      " 3   y         17492 non-null  int64 \n",
      " 4   dx        17492 non-null  int64 \n",
      " 5   dy        17492 non-null  int64 \n",
      " 6   img_path  17492 non-null  object\n",
      "dtypes: int64(4), object(3)\n",
      "memory usage: 1.1+ MB\n"
     ]
    }
   ],
   "source": [
    "imp_data = imp_data.dropna()\n",
    "clean_data = imp_data[imp_data.gender != 'u'].copy()\n",
    "clean_data.info()"
   ]
  },
  {
   "cell_type": "code",
   "execution_count": 57,
   "id": "03700700",
   "metadata": {},
   "outputs": [
    {
     "data": {
      "text/html": [
       "<div>\n",
       "<style scoped>\n",
       "    .dataframe tbody tr th:only-of-type {\n",
       "        vertical-align: middle;\n",
       "    }\n",
       "\n",
       "    .dataframe tbody tr th {\n",
       "        vertical-align: top;\n",
       "    }\n",
       "\n",
       "    .dataframe thead th {\n",
       "        text-align: right;\n",
       "    }\n",
       "</style>\n",
       "<table border=\"1\" class=\"dataframe\">\n",
       "  <thead>\n",
       "    <tr style=\"text-align: right;\">\n",
       "      <th></th>\n",
       "      <th>age</th>\n",
       "      <th>gender</th>\n",
       "      <th>x</th>\n",
       "      <th>y</th>\n",
       "      <th>dx</th>\n",
       "      <th>dy</th>\n",
       "      <th>img_path</th>\n",
       "    </tr>\n",
       "  </thead>\n",
       "  <tbody>\n",
       "    <tr>\n",
       "      <th>0</th>\n",
       "      <td>(25, 32)</td>\n",
       "      <td>0</td>\n",
       "      <td>0</td>\n",
       "      <td>414</td>\n",
       "      <td>1086</td>\n",
       "      <td>1383</td>\n",
       "      <td>C:\\Users\\ankita adhav\\OneDrive\\Desktop\\Age and...</td>\n",
       "    </tr>\n",
       "    <tr>\n",
       "      <th>1</th>\n",
       "      <td>(25, 32)</td>\n",
       "      <td>1</td>\n",
       "      <td>301</td>\n",
       "      <td>105</td>\n",
       "      <td>640</td>\n",
       "      <td>641</td>\n",
       "      <td>C:\\Users\\ankita adhav\\OneDrive\\Desktop\\Age and...</td>\n",
       "    </tr>\n",
       "    <tr>\n",
       "      <th>2</th>\n",
       "      <td>(25, 32)</td>\n",
       "      <td>0</td>\n",
       "      <td>2395</td>\n",
       "      <td>876</td>\n",
       "      <td>771</td>\n",
       "      <td>771</td>\n",
       "      <td>C:\\Users\\ankita adhav\\OneDrive\\Desktop\\Age and...</td>\n",
       "    </tr>\n",
       "    <tr>\n",
       "      <th>3</th>\n",
       "      <td>(25, 32)</td>\n",
       "      <td>1</td>\n",
       "      <td>752</td>\n",
       "      <td>1255</td>\n",
       "      <td>484</td>\n",
       "      <td>485</td>\n",
       "      <td>C:\\Users\\ankita adhav\\OneDrive\\Desktop\\Age and...</td>\n",
       "    </tr>\n",
       "    <tr>\n",
       "      <th>4</th>\n",
       "      <td>(25, 32)</td>\n",
       "      <td>1</td>\n",
       "      <td>175</td>\n",
       "      <td>80</td>\n",
       "      <td>769</td>\n",
       "      <td>768</td>\n",
       "      <td>C:\\Users\\ankita adhav\\OneDrive\\Desktop\\Age and...</td>\n",
       "    </tr>\n",
       "  </tbody>\n",
       "</table>\n",
       "</div>"
      ],
      "text/plain": [
       "        age  gender     x     y    dx    dy  \\\n",
       "0  (25, 32)       0     0   414  1086  1383   \n",
       "1  (25, 32)       1   301   105   640   641   \n",
       "2  (25, 32)       0  2395   876   771   771   \n",
       "3  (25, 32)       1   752  1255   484   485   \n",
       "4  (25, 32)       1   175    80   769   768   \n",
       "\n",
       "                                            img_path  \n",
       "0  C:\\Users\\ankita adhav\\OneDrive\\Desktop\\Age and...  \n",
       "1  C:\\Users\\ankita adhav\\OneDrive\\Desktop\\Age and...  \n",
       "2  C:\\Users\\ankita adhav\\OneDrive\\Desktop\\Age and...  \n",
       "3  C:\\Users\\ankita adhav\\OneDrive\\Desktop\\Age and...  \n",
       "4  C:\\Users\\ankita adhav\\OneDrive\\Desktop\\Age and...  "
      ]
     },
     "execution_count": 57,
     "metadata": {},
     "output_type": "execute_result"
    }
   ],
   "source": [
    "gender_to_label_map = {\n",
    "    'f' : 0,\n",
    "    'm' : 1\n",
    "}\n",
    "clean_data['gender'] = clean_data['gender'].apply(lambda g: gender_to_label_map[g])\n",
    "clean_data.head()"
   ]
  },
  {
   "cell_type": "code",
   "execution_count": 58,
   "id": "fd68c9be",
   "metadata": {},
   "outputs": [
    {
     "data": {
      "text/html": [
       "<div>\n",
       "<style scoped>\n",
       "    .dataframe tbody tr th:only-of-type {\n",
       "        vertical-align: middle;\n",
       "    }\n",
       "\n",
       "    .dataframe tbody tr th {\n",
       "        vertical-align: top;\n",
       "    }\n",
       "\n",
       "    .dataframe thead th {\n",
       "        text-align: right;\n",
       "    }\n",
       "</style>\n",
       "<table border=\"1\" class=\"dataframe\">\n",
       "  <thead>\n",
       "    <tr style=\"text-align: right;\">\n",
       "      <th></th>\n",
       "      <th>age</th>\n",
       "      <th>gender</th>\n",
       "      <th>x</th>\n",
       "      <th>y</th>\n",
       "      <th>dx</th>\n",
       "      <th>dy</th>\n",
       "      <th>img_path</th>\n",
       "    </tr>\n",
       "  </thead>\n",
       "  <tbody>\n",
       "    <tr>\n",
       "      <th>0</th>\n",
       "      <td>0</td>\n",
       "      <td>0</td>\n",
       "      <td>0</td>\n",
       "      <td>414</td>\n",
       "      <td>1086</td>\n",
       "      <td>1383</td>\n",
       "      <td>C:\\Users\\ankita adhav\\OneDrive\\Desktop\\Age and...</td>\n",
       "    </tr>\n",
       "    <tr>\n",
       "      <th>1</th>\n",
       "      <td>0</td>\n",
       "      <td>1</td>\n",
       "      <td>301</td>\n",
       "      <td>105</td>\n",
       "      <td>640</td>\n",
       "      <td>641</td>\n",
       "      <td>C:\\Users\\ankita adhav\\OneDrive\\Desktop\\Age and...</td>\n",
       "    </tr>\n",
       "    <tr>\n",
       "      <th>2</th>\n",
       "      <td>0</td>\n",
       "      <td>0</td>\n",
       "      <td>2395</td>\n",
       "      <td>876</td>\n",
       "      <td>771</td>\n",
       "      <td>771</td>\n",
       "      <td>C:\\Users\\ankita adhav\\OneDrive\\Desktop\\Age and...</td>\n",
       "    </tr>\n",
       "    <tr>\n",
       "      <th>3</th>\n",
       "      <td>0</td>\n",
       "      <td>1</td>\n",
       "      <td>752</td>\n",
       "      <td>1255</td>\n",
       "      <td>484</td>\n",
       "      <td>485</td>\n",
       "      <td>C:\\Users\\ankita adhav\\OneDrive\\Desktop\\Age and...</td>\n",
       "    </tr>\n",
       "    <tr>\n",
       "      <th>4</th>\n",
       "      <td>0</td>\n",
       "      <td>1</td>\n",
       "      <td>175</td>\n",
       "      <td>80</td>\n",
       "      <td>769</td>\n",
       "      <td>768</td>\n",
       "      <td>C:\\Users\\ankita adhav\\OneDrive\\Desktop\\Age and...</td>\n",
       "    </tr>\n",
       "  </tbody>\n",
       "</table>\n",
       "</div>"
      ],
      "text/plain": [
       "   age  gender     x     y    dx    dy  \\\n",
       "0    0       0     0   414  1086  1383   \n",
       "1    0       1   301   105   640   641   \n",
       "2    0       0  2395   876   771   771   \n",
       "3    0       1   752  1255   484   485   \n",
       "4    0       1   175    80   769   768   \n",
       "\n",
       "                                            img_path  \n",
       "0  C:\\Users\\ankita adhav\\OneDrive\\Desktop\\Age and...  \n",
       "1  C:\\Users\\ankita adhav\\OneDrive\\Desktop\\Age and...  \n",
       "2  C:\\Users\\ankita adhav\\OneDrive\\Desktop\\Age and...  \n",
       "3  C:\\Users\\ankita adhav\\OneDrive\\Desktop\\Age and...  \n",
       "4  C:\\Users\\ankita adhav\\OneDrive\\Desktop\\Age and...  "
      ]
     },
     "execution_count": 58,
     "metadata": {},
     "output_type": "execute_result"
    }
   ],
   "source": [
    "clean_data['age'] = clean_data['age'].map({'(25, 32)': 0, '(0, 2)': 1, '(38, 43)': 2, '(4, 6)': 3, '(8, 12)': 4, '(15, 20)': 5, \n",
    "                                           '(60, 100)': 6, '(48, 53)': 7, '35': 8, '13': 9, '22': 10, '34': 11, '23': 12, '45': 13, \n",
    "                                           '(27, 32)': 14, '55': 15, '36': 16, '(38, 42)': 17, 'None': 18, '57': 19, '3': 20, '29': 21, \n",
    "                                           '(38, 48)': 22, '58': 23, '2': 24, '42': 25, '(8, 23)': 26, '46': 27})\n",
    "clean_data.head()"
   ]
  },
  {
   "cell_type": "code",
   "execution_count": 59,
   "id": "38a6da5c",
   "metadata": {},
   "outputs": [
    {
     "name": "stdout",
     "output_type": "stream",
     "text": [
      "Train data shape (12244, 1)\n",
      "Test data shape (5248, 1)\n",
      "Train images shape (12244, 227, 227, 3)\n",
      "Test images shape (5248, 227, 227, 3)\n"
     ]
    }
   ],
   "source": [
    "X = clean_data[['img_path']]\n",
    "y = clean_data[['gender']]\n",
    "\n",
    "from sklearn.model_selection import train_test_split\n",
    "\n",
    "X_train, X_test, y_train, y_test = train_test_split(X, y, test_size=0.3, random_state=42)\n",
    "print('Train data shape {}'.format(X_train.shape))\n",
    "print('Test data shape {}'.format(X_test.shape))\n",
    "train_images = []\n",
    "test_images = []\n",
    "for row in X_train.iterrows():\n",
    "    image = Image.open(row[1].img_path)\n",
    "    image = image.resize((227, 227))   # Resize the image\n",
    "    data = np.asarray(image)\n",
    "    train_images.append(data)\n",
    "for row in X_test.iterrows():\n",
    "    image = Image.open(row[1].img_path)\n",
    "    image = image.resize((227, 227))  # Resize the image\n",
    "    data = np.asarray(image)\n",
    "    test_images.append(data)\n",
    "train_images = np.asarray(train_images)\n",
    "test_images = np.asarray(test_images)\n",
    "print('Train images shape {}'.format(train_images.shape))\n",
    "print('Test images shape {}'.format(test_images.shape))"
   ]
  },
  {
   "cell_type": "code",
   "execution_count": 60,
   "id": "7745e06a",
   "metadata": {},
   "outputs": [
    {
     "name": "stdout",
     "output_type": "stream",
     "text": [
      "Model: \"sequential\"\n",
      "_________________________________________________________________\n",
      " Layer (type)                Output Shape              Param #   \n",
      "=================================================================\n",
      " conv2d (Conv2D)             (None, 56, 56, 96)        14208     \n",
      "                                                                 \n",
      " max_pooling2d (MaxPooling2D  (None, 28, 28, 96)       0         \n",
      " )                                                               \n",
      "                                                                 \n",
      " layer_normalization (LayerN  (None, 28, 28, 96)       192       \n",
      " ormalization)                                                   \n",
      "                                                                 \n",
      " conv2d_1 (Conv2D)           (None, 28, 28, 256)       614656    \n",
      "                                                                 \n",
      " max_pooling2d_1 (MaxPooling  (None, 14, 14, 256)      0         \n",
      " 2D)                                                             \n",
      "                                                                 \n",
      " layer_normalization_1 (Laye  (None, 14, 14, 256)      512       \n",
      " rNormalization)                                                 \n",
      "                                                                 \n",
      " conv2d_2 (Conv2D)           (None, 14, 14, 256)       590080    \n",
      "                                                                 \n",
      " max_pooling2d_2 (MaxPooling  (None, 7, 7, 256)        0         \n",
      " 2D)                                                             \n",
      "                                                                 \n",
      " layer_normalization_2 (Laye  (None, 7, 7, 256)        512       \n",
      " rNormalization)                                                 \n",
      "                                                                 \n",
      " flatten (Flatten)           (None, 12544)             0         \n",
      "                                                                 \n",
      " dense (Dense)               (None, 512)               6423040   \n",
      "                                                                 \n",
      " dropout (Dropout)           (None, 512)               0         \n",
      "                                                                 \n",
      " dense_1 (Dense)             (None, 512)               262656    \n",
      "                                                                 \n",
      " dropout_1 (Dropout)         (None, 512)               0         \n",
      "                                                                 \n",
      " dense_2 (Dense)             (None, 2)                 1026      \n",
      "                                                                 \n",
      "=================================================================\n",
      "Total params: 7,906,882\n",
      "Trainable params: 7,906,882\n",
      "Non-trainable params: 0\n",
      "_________________________________________________________________\n"
     ]
    }
   ],
   "source": [
    "model = Sequential()\n",
    "model.add(Conv2D(input_shape=(227, 227, 3), filters=96, kernel_size=(7, 7), strides=4, padding='valid', activation='relu'))\n",
    "model.add(MaxPooling2D(pool_size=(2,2),strides=(2,2)))\n",
    "model.add(LayerNormalization())\n",
    "model.add(Conv2D(filters=256, kernel_size=(5, 5), strides=1, padding='same', activation='relu'))\n",
    "model.add(MaxPooling2D(pool_size=(2,2),strides=(2,2)))\n",
    "model.add(LayerNormalization())\n",
    "model.add(Conv2D(filters=256, kernel_size=(3, 3), strides=1, padding='same', activation='relu'))\n",
    "model.add(MaxPooling2D(pool_size=(2,2),strides=(2,2)))\n",
    "model.add(LayerNormalization())\n",
    "model.add(Flatten())\n",
    "model.add(Dense(units=512, activation='relu'))\n",
    "model.add(Dropout(rate=0.25))\n",
    "model.add(Dense(units=512, activation='relu'))\n",
    "model.add(Dropout(rate=0.25))\n",
    "model.add(Dense(units=2, activation='softmax'))\n",
    "model.summary()"
   ]
  },
  {
   "cell_type": "code",
   "execution_count": null,
   "id": "98ec0ffa",
   "metadata": {},
   "outputs": [
    {
     "name": "stdout",
     "output_type": "stream",
     "text": [
      "Epoch 1/25\n"
     ]
    },
    {
     "name": "stderr",
     "output_type": "stream",
     "text": [
      "C:\\Users\\ankita adhav\\AppData\\Local\\Programs\\Python\\Python39\\lib\\site-packages\\tensorflow\\python\\util\\dispatch.py:1082: UserWarning: \"`sparse_categorical_crossentropy` received `from_logits=True`, but the `output` argument was produced by a sigmoid or softmax activation and thus does not represent logits. Was this intended?\"\n",
      "  return dispatch_target(*args, **kwargs)\n"
     ]
    },
    {
     "name": "stdout",
     "output_type": "stream",
     "text": [
      "383/383 [==============================] - ETA: 0s - loss: 0.9352 - accuracy: 0.5266"
     ]
    },
    {
     "name": "stderr",
     "output_type": "stream",
     "text": [
      "C:\\Users\\ankita adhav\\AppData\\Local\\Programs\\Python\\Python39\\lib\\site-packages\\tensorflow\\python\\util\\dispatch.py:1082: UserWarning: \"`sparse_categorical_crossentropy` received `from_logits=True`, but the `output` argument was produced by a sigmoid or softmax activation and thus does not represent logits. Was this intended?\"\n",
      "  return dispatch_target(*args, **kwargs)\n"
     ]
    },
    {
     "name": "stdout",
     "output_type": "stream",
     "text": [
      "383/383 [==============================] - 947s 2s/step - loss: 0.9352 - accuracy: 0.5266 - val_loss: 0.6904 - val_accuracy: 0.5373\n",
      "Epoch 2/25\n",
      "233/383 [=================>............] - ETA: 3:31 - loss: 0.6904 - accuracy: 0.5380"
     ]
    }
   ],
   "source": [
    "callback = tf.keras.callbacks.EarlyStopping(monitor='loss', patience=3) # Callback for earlystopping\n",
    "model.compile(optimizer='adam', loss=tf.keras.losses.SparseCategoricalCrossentropy(from_logits=True), metrics=['accuracy'])\n",
    "history = model.fit(train_images, y_train, batch_size=32, epochs=25, validation_data=(test_images, y_test), callbacks=[callback])\n",
    "print(\"++++++++++++++++++++++++++++++++++++++++++++++++++++++++++++++++++++++++++++++++++++++++++++++++++++++++++++++++++++++++++\")\n",
    "model.save('gender_model25.h5')"
   ]
  },
  {
   "cell_type": "code",
   "execution_count": null,
   "id": "fd80b819",
   "metadata": {},
   "outputs": [],
   "source": [
    "test_loss, test_acc = model.evaluate(test_images, y_test, verbose=2)\n",
    "print(test_acc)"
   ]
  },
  {
   "cell_type": "code",
   "execution_count": null,
   "id": "14107952",
   "metadata": {},
   "outputs": [],
   "source": [
    "X = clean_data[['img_path']]\n",
    "y = clean_data[['age']]\n",
    "\n",
    "from sklearn.model_selection import train_test_split\n",
    "\n",
    "X_train, X_test, y_train, y_test = train_test_split(X, y, test_size=0.3, random_state=42)\n",
    "print('Train data shape {}'.format(X_train.shape))\n",
    "print('Test data shape {}'.format(X_test.shape))\n",
    "train_images = []\n",
    "test_images = []\n",
    "for row in X_train.iterrows():\n",
    "    image = Image.open(row[1].img_path)\n",
    "    image = image.resize((227, 227))   # Resize the image\n",
    "    data = np.asarray(image)\n",
    "    train_images.append(data)\n",
    "for row in X_test.iterrows():\n",
    "    image = Image.open(row[1].img_path)\n",
    "    image = image.resize((227, 227))  # Resize the image\n",
    "    data = np.asarray(image)\n",
    "    test_images.append(data)\n",
    "train_images = np.asarray(train_images)\n",
    "test_images = np.asarray(test_images)\n",
    "print('Train images shape {}'.format(train_images.shape))\n",
    "print('Test images shape {}'.format(test_images.shape))"
   ]
  },
  {
   "cell_type": "code",
   "execution_count": null,
   "id": "1fb11fcf",
   "metadata": {},
   "outputs": [],
   "source": [
    "model = Sequential()\n",
    "model.add(Conv2D(input_shape=(227, 227, 3), filters=96, kernel_size=(7, 7), strides=4, padding='valid', activation='relu'))\n",
    "model.add(MaxPooling2D(pool_size=(2,2),strides=(2,2)))\n",
    "model.add(LayerNormalization())\n",
    "model.add(Conv2D(filters=256, kernel_size=(5, 5), strides=1, padding='same', activation='relu'))\n",
    "model.add(MaxPooling2D(pool_size=(2,2),strides=(2,2)))\n",
    "model.add(LayerNormalization())\n",
    "model.add(Conv2D(filters=256, kernel_size=(3, 3), strides=1, padding='same', activation='relu'))\n",
    "model.add(MaxPooling2D(pool_size=(2,2),strides=(2,2)))\n",
    "model.add(LayerNormalization())\n",
    "model.add(Flatten())\n",
    "model.add(Dense(units=512, activation='relu'))\n",
    "model.add(Dropout(rate=0.25))\n",
    "model.add(Dense(units=512, activation='relu'))\n",
    "model.add(Dropout(rate=0.25))\n",
    "model.add(Dense(units=8, activation='softmax'))\n",
    "model.summary()"
   ]
  },
  {
   "cell_type": "code",
   "execution_count": null,
   "id": "c2ae54c3",
   "metadata": {},
   "outputs": [],
   "source": []
  }
 ],
 "metadata": {
  "kernelspec": {
   "display_name": "Python 3 (ipykernel)",
   "language": "python",
   "name": "python3"
  },
  "language_info": {
   "codemirror_mode": {
    "name": "ipython",
    "version": 3
   },
   "file_extension": ".py",
   "mimetype": "text/x-python",
   "name": "python",
   "nbconvert_exporter": "python",
   "pygments_lexer": "ipython3",
   "version": "3.9.7"
  }
 },
 "nbformat": 4,
 "nbformat_minor": 5
}
